{
 "cells": [
  {
   "cell_type": "code",
   "execution_count": 5,
   "metadata": {},
   "outputs": [],
   "source": [
    "# import numpy as np\n",
    "# from ins_classfier import ins_classifer\n",
    "\n",
    "\n",
    "# filepath=\"./data/ins1.txt\"\n",
    "# res=ins_classifer(filepath)\n",
    "# print(np.mean(res['dcan']))\n",
    "# filepath=\"/home/cyy/.vscode-server/2024SRT/test.txt\"\n",
    "# res=all_classifer(filepath)\n",
    "# res.to_csv('all_test.csv')\n",
    "# print(np.mean(res['dcan']))\n",
    "\n",
    "# filepath=\"/home/cyy/.vscode-server/2024SRT/ins1.txt\"\n",
    "# res=ins_classifer(filepath)\n",
    "# res.to_csv('ins_fun.csv')\n",
    "# print(np.mean(res['dcan']))\n",
    "# filepath=\"/home/cyy/.vscode-server/2024SRT/test.txt\"\n",
    "# res=ins_classifer(filepath)\n",
    "# res.to_csv('ins_test.csv')\n",
    "# print(np.mean(res['dcan']))\n",
    "\n",
    "# filepath=\"/home/cyy/.vscode-server/2024SRT/her1.txt\"\n",
    "# res=her_classifer(filepath)\n",
    "# res.to_csv('her_fun.csv')\n",
    "# print(np.mean(res['dcan']))\n",
    "# filepath=\"/home/cyy/.vscode-server/2024SRT/test.txt\"\n",
    "# res=her_classifer(filepath)\n",
    "# res.to_csv('her_test.csv')\n",
    "# print(np.mean(res['dcan']))"
   ]
  },
  {
   "cell_type": "code",
   "execution_count": 4,
   "metadata": {},
   "outputs": [
    {
     "data": {
      "text/html": [
       "<div>\n",
       "<style scoped>\n",
       "    .dataframe tbody tr th:only-of-type {\n",
       "        vertical-align: middle;\n",
       "    }\n",
       "\n",
       "    .dataframe tbody tr th {\n",
       "        vertical-align: top;\n",
       "    }\n",
       "\n",
       "    .dataframe thead th {\n",
       "        text-align: right;\n",
       "    }\n",
       "</style>\n",
       "<table border=\"1\" class=\"dataframe\">\n",
       "  <thead>\n",
       "    <tr style=\"text-align: right;\">\n",
       "      <th></th>\n",
       "      <th>smiles</th>\n",
       "      <th>rnn</th>\n",
       "      <th>gcn</th>\n",
       "      <th>dcan</th>\n",
       "    </tr>\n",
       "  </thead>\n",
       "  <tbody>\n",
       "    <tr>\n",
       "      <th>0</th>\n",
       "      <td>N=c1[nH]c(=N)[nH]c(=NC2CC2)[nH]1\\n</td>\n",
       "      <td>93.586967</td>\n",
       "      <td>0.999997</td>\n",
       "      <td>1.0</td>\n",
       "    </tr>\n",
       "    <tr>\n",
       "      <th>1</th>\n",
       "      <td>Clc1ccc(-c2cc(-c3ccccc3)c(-c3ccccc3)s2)cc1\\n</td>\n",
       "      <td>93.918442</td>\n",
       "      <td>0.978404</td>\n",
       "      <td>1.0</td>\n",
       "    </tr>\n",
       "    <tr>\n",
       "      <th>2</th>\n",
       "      <td>CCOCn1c(-c2ccc(Cl)cc2)c(C#N)c(Br)c1C(F)(F)F\\n</td>\n",
       "      <td>93.531860</td>\n",
       "      <td>0.976669</td>\n",
       "      <td>1.0</td>\n",
       "    </tr>\n",
       "    <tr>\n",
       "      <th>3</th>\n",
       "      <td>O=C(Oc1ccccc1)n1c(C(F)(F)F)nc2cc(Cl)c(Cl)cc21\\n</td>\n",
       "      <td>93.161949</td>\n",
       "      <td>0.999936</td>\n",
       "      <td>1.0</td>\n",
       "    </tr>\n",
       "    <tr>\n",
       "      <th>4</th>\n",
       "      <td>Cc1ccc(C(C)C)cc1O\\n</td>\n",
       "      <td>93.472000</td>\n",
       "      <td>0.970726</td>\n",
       "      <td>1.0</td>\n",
       "    </tr>\n",
       "    <tr>\n",
       "      <th>...</th>\n",
       "      <td>...</td>\n",
       "      <td>...</td>\n",
       "      <td>...</td>\n",
       "      <td>...</td>\n",
       "    </tr>\n",
       "    <tr>\n",
       "      <th>547</th>\n",
       "      <td>CC(C)(C)c1cc(C=C(C#N)C#N)cc(C(C)(C)C)c1O\\n</td>\n",
       "      <td>93.446762</td>\n",
       "      <td>0.999987</td>\n",
       "      <td>1.0</td>\n",
       "    </tr>\n",
       "    <tr>\n",
       "      <th>548</th>\n",
       "      <td>CN(C(=O)c1cc(-c2cnn(-c3c(Cl)cc(C(F)(C(F)(F)F)C...</td>\n",
       "      <td>93.717484</td>\n",
       "      <td>0.999997</td>\n",
       "      <td>1.0</td>\n",
       "    </tr>\n",
       "    <tr>\n",
       "      <th>549</th>\n",
       "      <td>CCS(=O)(=O)c1cccnc1-c1nc2cc(S(=O)(=O)C(F)(F)F)...</td>\n",
       "      <td>93.506088</td>\n",
       "      <td>0.995993</td>\n",
       "      <td>1.0</td>\n",
       "    </tr>\n",
       "    <tr>\n",
       "      <th>550</th>\n",
       "      <td>CC(=O)OC(c1ccc(Cl)c(Cl)c1)C(Cl)(Cl)Cl\\n</td>\n",
       "      <td>92.591370</td>\n",
       "      <td>1.000000</td>\n",
       "      <td>1.0</td>\n",
       "    </tr>\n",
       "    <tr>\n",
       "      <th>551</th>\n",
       "      <td>FC(F)(F)c1ccc(OCCCOc2c(Cl)cc(OCC=C(Cl)Cl)cc2Cl...</td>\n",
       "      <td>93.627609</td>\n",
       "      <td>0.999856</td>\n",
       "      <td>1.0</td>\n",
       "    </tr>\n",
       "  </tbody>\n",
       "</table>\n",
       "<p>552 rows × 4 columns</p>\n",
       "</div>"
      ],
      "text/plain": [
       "                                                smiles        rnn       gcn  \\\n",
       "0                   N=c1[nH]c(=N)[nH]c(=NC2CC2)[nH]1\\n  93.586967  0.999997   \n",
       "1         Clc1ccc(-c2cc(-c3ccccc3)c(-c3ccccc3)s2)cc1\\n  93.918442  0.978404   \n",
       "2        CCOCn1c(-c2ccc(Cl)cc2)c(C#N)c(Br)c1C(F)(F)F\\n  93.531860  0.976669   \n",
       "3      O=C(Oc1ccccc1)n1c(C(F)(F)F)nc2cc(Cl)c(Cl)cc21\\n  93.161949  0.999936   \n",
       "4                                  Cc1ccc(C(C)C)cc1O\\n  93.472000  0.970726   \n",
       "..                                                 ...        ...       ...   \n",
       "547         CC(C)(C)c1cc(C=C(C#N)C#N)cc(C(C)(C)C)c1O\\n  93.446762  0.999987   \n",
       "548  CN(C(=O)c1cc(-c2cnn(-c3c(Cl)cc(C(F)(C(F)(F)F)C...  93.717484  0.999997   \n",
       "549  CCS(=O)(=O)c1cccnc1-c1nc2cc(S(=O)(=O)C(F)(F)F)...  93.506088  0.995993   \n",
       "550            CC(=O)OC(c1ccc(Cl)c(Cl)c1)C(Cl)(Cl)Cl\\n  92.591370  1.000000   \n",
       "551  FC(F)(F)c1ccc(OCCCOc2c(Cl)cc(OCC=C(Cl)Cl)cc2Cl...  93.627609  0.999856   \n",
       "\n",
       "     dcan  \n",
       "0     1.0  \n",
       "1     1.0  \n",
       "2     1.0  \n",
       "3     1.0  \n",
       "4     1.0  \n",
       "..    ...  \n",
       "547   1.0  \n",
       "548   1.0  \n",
       "549   1.0  \n",
       "550   1.0  \n",
       "551   1.0  \n",
       "\n",
       "[552 rows x 4 columns]"
      ]
     },
     "execution_count": 4,
     "metadata": {},
     "output_type": "execute_result"
    }
   ],
   "source": [
    "res"
   ]
  },
  {
   "cell_type": "code",
   "execution_count": 18,
   "metadata": {},
   "outputs": [
    {
     "data": {
      "text/html": [
       "<div>\n",
       "<style scoped>\n",
       "    .dataframe tbody tr th:only-of-type {\n",
       "        vertical-align: middle;\n",
       "    }\n",
       "\n",
       "    .dataframe tbody tr th {\n",
       "        vertical-align: top;\n",
       "    }\n",
       "\n",
       "    .dataframe thead th {\n",
       "        text-align: right;\n",
       "    }\n",
       "</style>\n",
       "<table border=\"1\" class=\"dataframe\">\n",
       "  <thead>\n",
       "    <tr style=\"text-align: right;\">\n",
       "      <th></th>\n",
       "      <th>rnn</th>\n",
       "      <th>gcn</th>\n",
       "      <th>dcan</th>\n",
       "    </tr>\n",
       "  </thead>\n",
       "  <tbody>\n",
       "    <tr>\n",
       "      <th>0</th>\n",
       "      <td>92.669876</td>\n",
       "      <td>0.999998</td>\n",
       "      <td>1.000000e+00</td>\n",
       "    </tr>\n",
       "    <tr>\n",
       "      <th>1</th>\n",
       "      <td>92.957029</td>\n",
       "      <td>0.999999</td>\n",
       "      <td>1.000000e+00</td>\n",
       "    </tr>\n",
       "    <tr>\n",
       "      <th>2</th>\n",
       "      <td>92.242076</td>\n",
       "      <td>0.998151</td>\n",
       "      <td>1.000000e+00</td>\n",
       "    </tr>\n",
       "    <tr>\n",
       "      <th>3</th>\n",
       "      <td>92.620667</td>\n",
       "      <td>0.705429</td>\n",
       "      <td>9.999993e-01</td>\n",
       "    </tr>\n",
       "    <tr>\n",
       "      <th>4</th>\n",
       "      <td>91.861840</td>\n",
       "      <td>0.999999</td>\n",
       "      <td>1.000000e+00</td>\n",
       "    </tr>\n",
       "    <tr>\n",
       "      <th>...</th>\n",
       "      <td>...</td>\n",
       "      <td>...</td>\n",
       "      <td>...</td>\n",
       "    </tr>\n",
       "    <tr>\n",
       "      <th>44</th>\n",
       "      <td>62.118606</td>\n",
       "      <td>0.000603</td>\n",
       "      <td>8.451988e-33</td>\n",
       "    </tr>\n",
       "    <tr>\n",
       "      <th>45</th>\n",
       "      <td>38.734213</td>\n",
       "      <td>0.000170</td>\n",
       "      <td>0.000000e+00</td>\n",
       "    </tr>\n",
       "    <tr>\n",
       "      <th>46</th>\n",
       "      <td>46.258773</td>\n",
       "      <td>0.000351</td>\n",
       "      <td>0.000000e+00</td>\n",
       "    </tr>\n",
       "    <tr>\n",
       "      <th>47</th>\n",
       "      <td>22.863367</td>\n",
       "      <td>0.000227</td>\n",
       "      <td>0.000000e+00</td>\n",
       "    </tr>\n",
       "    <tr>\n",
       "      <th>48</th>\n",
       "      <td>36.795944</td>\n",
       "      <td>0.000331</td>\n",
       "      <td>0.000000e+00</td>\n",
       "    </tr>\n",
       "  </tbody>\n",
       "</table>\n",
       "<p>1478 rows × 3 columns</p>\n",
       "</div>"
      ],
      "text/plain": [
       "          rnn       gcn          dcan\n",
       "0   92.669876  0.999998  1.000000e+00\n",
       "1   92.957029  0.999999  1.000000e+00\n",
       "2   92.242076  0.998151  1.000000e+00\n",
       "3   92.620667  0.705429  9.999993e-01\n",
       "4   91.861840  0.999999  1.000000e+00\n",
       "..        ...       ...           ...\n",
       "44  62.118606  0.000603  8.451988e-33\n",
       "45  38.734213  0.000170  0.000000e+00\n",
       "46  46.258773  0.000351  0.000000e+00\n",
       "47  22.863367  0.000227  0.000000e+00\n",
       "48  36.795944  0.000331  0.000000e+00\n",
       "\n",
       "[1478 rows x 3 columns]"
      ]
     },
     "execution_count": 18,
     "metadata": {},
     "output_type": "execute_result"
    }
   ],
   "source": [
    "pd.concat([pd.read_csv(\"all_fun.csv\").iloc[:,2:5],pd.read_csv(\"all_test.csv\").iloc[:,2:5]])"
   ]
  },
  {
   "cell_type": "code",
   "execution_count": 25,
   "metadata": {},
   "outputs": [
    {
     "data": {
      "text/plain": [
       "array([0., 0., 0., ..., 1., 1., 1.])"
      ]
     },
     "execution_count": 25,
     "metadata": {},
     "output_type": "execute_result"
    }
   ],
   "source": [
    "np.concatenate([np.zeros(len(pd.read_csv(\"all_fun.csv\").iloc[:,2:5])),np.ones(len(pd.read_csv(\"all_test.csv\").iloc[:,2:5]))])"
   ]
  },
  {
   "cell_type": "code",
   "execution_count": 14,
   "metadata": {},
   "outputs": [],
   "source": [
    "d=X.apply(lambda x: (x-np.mean(x))/np.std(x),axis=0)"
   ]
  },
  {
   "cell_type": "code",
   "execution_count": 15,
   "metadata": {},
   "outputs": [
    {
     "data": {
      "text/html": [
       "<div>\n",
       "<style scoped>\n",
       "    .dataframe tbody tr th:only-of-type {\n",
       "        vertical-align: middle;\n",
       "    }\n",
       "\n",
       "    .dataframe tbody tr th {\n",
       "        vertical-align: top;\n",
       "    }\n",
       "\n",
       "    .dataframe thead th {\n",
       "        text-align: right;\n",
       "    }\n",
       "</style>\n",
       "<table border=\"1\" class=\"dataframe\">\n",
       "  <thead>\n",
       "    <tr style=\"text-align: right;\">\n",
       "      <th></th>\n",
       "      <th>rnn</th>\n",
       "      <th>gcn</th>\n",
       "      <th>dcan</th>\n",
       "    </tr>\n",
       "  </thead>\n",
       "  <tbody>\n",
       "    <tr>\n",
       "      <th>0</th>\n",
       "      <td>0.233685</td>\n",
       "      <td>0.237106</td>\n",
       "      <td>0.191061</td>\n",
       "    </tr>\n",
       "    <tr>\n",
       "      <th>1</th>\n",
       "      <td>0.269849</td>\n",
       "      <td>0.237114</td>\n",
       "      <td>0.191061</td>\n",
       "    </tr>\n",
       "    <tr>\n",
       "      <th>2</th>\n",
       "      <td>0.179808</td>\n",
       "      <td>0.226004</td>\n",
       "      <td>0.191061</td>\n",
       "    </tr>\n",
       "    <tr>\n",
       "      <th>3</th>\n",
       "      <td>0.227488</td>\n",
       "      <td>-1.533195</td>\n",
       "      <td>0.191057</td>\n",
       "    </tr>\n",
       "    <tr>\n",
       "      <th>4</th>\n",
       "      <td>0.131922</td>\n",
       "      <td>0.237114</td>\n",
       "      <td>0.191061</td>\n",
       "    </tr>\n",
       "    <tr>\n",
       "      <th>...</th>\n",
       "      <td>...</td>\n",
       "      <td>...</td>\n",
       "      <td>...</td>\n",
       "    </tr>\n",
       "    <tr>\n",
       "      <th>44</th>\n",
       "      <td>-3.613901</td>\n",
       "      <td>-5.769054</td>\n",
       "      <td>-5.336612</td>\n",
       "    </tr>\n",
       "    <tr>\n",
       "      <th>45</th>\n",
       "      <td>-6.558900</td>\n",
       "      <td>-5.771652</td>\n",
       "      <td>-5.336612</td>\n",
       "    </tr>\n",
       "    <tr>\n",
       "      <th>46</th>\n",
       "      <td>-5.611267</td>\n",
       "      <td>-5.770569</td>\n",
       "      <td>-5.336612</td>\n",
       "    </tr>\n",
       "    <tr>\n",
       "      <th>47</th>\n",
       "      <td>-8.557653</td>\n",
       "      <td>-5.771309</td>\n",
       "      <td>-5.336612</td>\n",
       "    </tr>\n",
       "    <tr>\n",
       "      <th>48</th>\n",
       "      <td>-6.803003</td>\n",
       "      <td>-5.770687</td>\n",
       "      <td>-5.336612</td>\n",
       "    </tr>\n",
       "  </tbody>\n",
       "</table>\n",
       "<p>1478 rows × 3 columns</p>\n",
       "</div>"
      ],
      "text/plain": [
       "         rnn       gcn      dcan\n",
       "0   0.233685  0.237106  0.191061\n",
       "1   0.269849  0.237114  0.191061\n",
       "2   0.179808  0.226004  0.191061\n",
       "3   0.227488 -1.533195  0.191057\n",
       "4   0.131922  0.237114  0.191061\n",
       "..       ...       ...       ...\n",
       "44 -3.613901 -5.769054 -5.336612\n",
       "45 -6.558900 -5.771652 -5.336612\n",
       "46 -5.611267 -5.770569 -5.336612\n",
       "47 -8.557653 -5.771309 -5.336612\n",
       "48 -6.803003 -5.770687 -5.336612\n",
       "\n",
       "[1478 rows x 3 columns]"
      ]
     },
     "execution_count": 15,
     "metadata": {},
     "output_type": "execute_result"
    }
   ],
   "source": [
    "d"
   ]
  },
  {
   "cell_type": "code",
   "execution_count": 20,
   "metadata": {},
   "outputs": [],
   "source": [
    "import pandas as pd\n",
    "import numpy as np\n",
    "X=pd.concat([pd.read_csv(\"all_fun.csv\").iloc[:,2:5],pd.read_csv(\"all_test.csv\").iloc[:,2:5]],ignore_index=True)\n",
    "# X=X.apply(lambda x: (x-np.min(x))/(np.max(x)-np.min(x)),axis=0)\n",
    "Y=np.concatenate([np.ones(len(pd.read_csv(\"all_fun.csv\").iloc[:,2:5])),np.zeros(len(pd.read_csv(\"all_test.csv\").iloc[:,2:5]))])"
   ]
  },
  {
   "cell_type": "code",
   "execution_count": 13,
   "metadata": {},
   "outputs": [
    {
     "data": {
      "text/plain": [
       "0.990054639112436"
      ]
     },
     "execution_count": 13,
     "metadata": {},
     "output_type": "execute_result"
    }
   ],
   "source": [
    "np.mean(X,axis=1)[11]"
   ]
  },
  {
   "cell_type": "code",
   "execution_count": null,
   "metadata": {},
   "outputs": [],
   "source": [
    "from sklearn.neural_network import MLPClassifier\n",
    "from sklearn.linear_model import LogisticRegression\n",
    "# clf = MLPClassifier( alpha=1e-5,\n",
    "#                      hidden_layer_sizes=(50,40,10,2), random_state=1)\n",
    "\n",
    "model = LogisticRegression(\n",
    "    penalty='l2',          # 正则化类型（'l1', 'l2', 'elasticnet', 'none'）\n",
    "    C=0.3,                # 正则化强度的倒数（C 越小，正则化越强）\n",
    "    solver='lbfgs',       # 优化算法（如 'liblinear', 'saga', 'newton-cg'）\n",
    "    max_iter=1000,         # 最大迭代次数\n",
    "    multi_class='auto',   # 多分类策略（'auto', 'ovr', 'multinomial'）\n",
    "    random_state=42      # 随机种子（确保可重复性） \n",
    ")"
   ]
  },
  {
   "cell_type": "code",
   "execution_count": 63,
   "metadata": {},
   "outputs": [
    {
     "data": {
      "text/plain": [
       "LogisticRegression(C=1000, max_iter=1000, random_state=42)"
      ]
     },
     "execution_count": 63,
     "metadata": {},
     "output_type": "execute_result"
    }
   ],
   "source": [
    "model.fit(X,Y)"
   ]
  },
  {
   "cell_type": "code",
   "execution_count": 37,
   "metadata": {},
   "outputs": [
    {
     "data": {
      "text/plain": [
       "0      9.686021e-01\n",
       "1      1.000000e+00\n",
       "2      4.707924e-09\n",
       "3      1.000000e+00\n",
       "4     -5.768953e-17\n",
       "           ...     \n",
       "506   -5.768953e-17\n",
       "507    1.000000e+00\n",
       "508    1.884714e-05\n",
       "509    1.000000e+00\n",
       "510    1.325970e-08\n",
       "Name: dcan, Length: 511, dtype: float64"
      ]
     },
     "execution_count": 37,
     "metadata": {},
     "output_type": "execute_result"
    }
   ],
   "source": [
    "X1['dcan']-np.mean(X)['dcan']"
   ]
  },
  {
   "cell_type": "code",
   "execution_count": 34,
   "metadata": {},
   "outputs": [],
   "source": [
    "X1=pd.read_csv(\"result_raw.csv\").iloc[:,2:5]\n",
    "d=pd.DataFrame([])\n",
    "d['rnn']=(X1['rnn']-np.min(X)['rnn'])/(np.max(X)['rnn']-np.min(X)['rnn'])\n",
    "d['gcn']=(X1['gcn']-np.min(X)['gcn'])/(np.max(X)['gcn']-np.min(X)['gcn'])\n",
    "d['dcan']=(X1['dcan']-np.min(X)['dcan'])/(np.max(X)['dcan']-np.min(X)['dcan'])\n",
    "# model.predict(X1)"
   ]
  },
  {
   "cell_type": "code",
   "execution_count": 36,
   "metadata": {},
   "outputs": [
    {
     "data": {
      "text/html": [
       "<div>\n",
       "<style scoped>\n",
       "    .dataframe tbody tr th:only-of-type {\n",
       "        vertical-align: middle;\n",
       "    }\n",
       "\n",
       "    .dataframe tbody tr th {\n",
       "        vertical-align: top;\n",
       "    }\n",
       "\n",
       "    .dataframe thead th {\n",
       "        text-align: right;\n",
       "    }\n",
       "</style>\n",
       "<table border=\"1\" class=\"dataframe\">\n",
       "  <thead>\n",
       "    <tr style=\"text-align: right;\">\n",
       "      <th></th>\n",
       "      <th>rnn</th>\n",
       "      <th>gcn</th>\n",
       "      <th>dcan</th>\n",
       "    </tr>\n",
       "  </thead>\n",
       "  <tbody>\n",
       "    <tr>\n",
       "      <th>0</th>\n",
       "      <td>63.860352</td>\n",
       "      <td>0.990838</td>\n",
       "      <td>9.686021e-01</td>\n",
       "    </tr>\n",
       "    <tr>\n",
       "      <th>1</th>\n",
       "      <td>47.718744</td>\n",
       "      <td>0.870998</td>\n",
       "      <td>1.000000e+00</td>\n",
       "    </tr>\n",
       "    <tr>\n",
       "      <th>2</th>\n",
       "      <td>54.851494</td>\n",
       "      <td>0.012144</td>\n",
       "      <td>4.707924e-09</td>\n",
       "    </tr>\n",
       "    <tr>\n",
       "      <th>3</th>\n",
       "      <td>65.825657</td>\n",
       "      <td>0.954919</td>\n",
       "      <td>1.000000e+00</td>\n",
       "    </tr>\n",
       "    <tr>\n",
       "      <th>4</th>\n",
       "      <td>62.547561</td>\n",
       "      <td>0.043319</td>\n",
       "      <td>0.000000e+00</td>\n",
       "    </tr>\n",
       "    <tr>\n",
       "      <th>...</th>\n",
       "      <td>...</td>\n",
       "      <td>...</td>\n",
       "      <td>...</td>\n",
       "    </tr>\n",
       "    <tr>\n",
       "      <th>506</th>\n",
       "      <td>50.823536</td>\n",
       "      <td>0.000228</td>\n",
       "      <td>0.000000e+00</td>\n",
       "    </tr>\n",
       "    <tr>\n",
       "      <th>507</th>\n",
       "      <td>34.161962</td>\n",
       "      <td>0.999963</td>\n",
       "      <td>1.000000e+00</td>\n",
       "    </tr>\n",
       "    <tr>\n",
       "      <th>508</th>\n",
       "      <td>67.620168</td>\n",
       "      <td>0.017368</td>\n",
       "      <td>1.884714e-05</td>\n",
       "    </tr>\n",
       "    <tr>\n",
       "      <th>509</th>\n",
       "      <td>42.060765</td>\n",
       "      <td>0.999994</td>\n",
       "      <td>1.000000e+00</td>\n",
       "    </tr>\n",
       "    <tr>\n",
       "      <th>510</th>\n",
       "      <td>58.182496</td>\n",
       "      <td>0.026997</td>\n",
       "      <td>1.325970e-08</td>\n",
       "    </tr>\n",
       "  </tbody>\n",
       "</table>\n",
       "<p>511 rows × 3 columns</p>\n",
       "</div>"
      ],
      "text/plain": [
       "           rnn       gcn          dcan\n",
       "0    63.860352  0.990838  9.686021e-01\n",
       "1    47.718744  0.870998  1.000000e+00\n",
       "2    54.851494  0.012144  4.707924e-09\n",
       "3    65.825657  0.954919  1.000000e+00\n",
       "4    62.547561  0.043319  0.000000e+00\n",
       "..         ...       ...           ...\n",
       "506  50.823536  0.000228  0.000000e+00\n",
       "507  34.161962  0.999963  1.000000e+00\n",
       "508  67.620168  0.017368  1.884714e-05\n",
       "509  42.060765  0.999994  1.000000e+00\n",
       "510  58.182496  0.026997  1.325970e-08\n",
       "\n",
       "[511 rows x 3 columns]"
      ]
     },
     "execution_count": 36,
     "metadata": {},
     "output_type": "execute_result"
    }
   ],
   "source": [
    "X1"
   ]
  },
  {
   "cell_type": "code",
   "execution_count": null,
   "metadata": {},
   "outputs": [
    {
     "data": {
      "text/html": [
       "<div>\n",
       "<style scoped>\n",
       "    .dataframe tbody tr th:only-of-type {\n",
       "        vertical-align: middle;\n",
       "    }\n",
       "\n",
       "    .dataframe tbody tr th {\n",
       "        vertical-align: top;\n",
       "    }\n",
       "\n",
       "    .dataframe thead th {\n",
       "        text-align: right;\n",
       "    }\n",
       "</style>\n",
       "<table border=\"1\" class=\"dataframe\">\n",
       "  <thead>\n",
       "    <tr style=\"text-align: right;\">\n",
       "      <th></th>\n",
       "      <th>rnn</th>\n",
       "      <th>gcn</th>\n",
       "      <th>dcan</th>\n",
       "    </tr>\n",
       "  </thead>\n",
       "  <tbody>\n",
       "    <tr>\n",
       "      <th>0</th>\n",
       "      <td>63.860352</td>\n",
       "      <td>0.990838</td>\n",
       "      <td>9.686021e-01</td>\n",
       "    </tr>\n",
       "    <tr>\n",
       "      <th>1</th>\n",
       "      <td>47.718744</td>\n",
       "      <td>0.870998</td>\n",
       "      <td>1.000000e+00</td>\n",
       "    </tr>\n",
       "    <tr>\n",
       "      <th>2</th>\n",
       "      <td>54.851494</td>\n",
       "      <td>0.012144</td>\n",
       "      <td>4.707924e-09</td>\n",
       "    </tr>\n",
       "    <tr>\n",
       "      <th>3</th>\n",
       "      <td>65.825657</td>\n",
       "      <td>0.954919</td>\n",
       "      <td>1.000000e+00</td>\n",
       "    </tr>\n",
       "    <tr>\n",
       "      <th>4</th>\n",
       "      <td>62.547561</td>\n",
       "      <td>0.043319</td>\n",
       "      <td>0.000000e+00</td>\n",
       "    </tr>\n",
       "    <tr>\n",
       "      <th>...</th>\n",
       "      <td>...</td>\n",
       "      <td>...</td>\n",
       "      <td>...</td>\n",
       "    </tr>\n",
       "    <tr>\n",
       "      <th>506</th>\n",
       "      <td>50.823536</td>\n",
       "      <td>0.000228</td>\n",
       "      <td>0.000000e+00</td>\n",
       "    </tr>\n",
       "    <tr>\n",
       "      <th>507</th>\n",
       "      <td>34.161962</td>\n",
       "      <td>0.999963</td>\n",
       "      <td>1.000000e+00</td>\n",
       "    </tr>\n",
       "    <tr>\n",
       "      <th>508</th>\n",
       "      <td>67.620168</td>\n",
       "      <td>0.017368</td>\n",
       "      <td>1.884714e-05</td>\n",
       "    </tr>\n",
       "    <tr>\n",
       "      <th>509</th>\n",
       "      <td>42.060765</td>\n",
       "      <td>0.999994</td>\n",
       "      <td>1.000000e+00</td>\n",
       "    </tr>\n",
       "    <tr>\n",
       "      <th>510</th>\n",
       "      <td>58.182496</td>\n",
       "      <td>0.026997</td>\n",
       "      <td>1.325970e-08</td>\n",
       "    </tr>\n",
       "  </tbody>\n",
       "</table>\n",
       "<p>511 rows × 3 columns</p>\n",
       "</div>"
      ],
      "text/plain": [
       "           rnn       gcn          dcan\n",
       "0    63.860352  0.990838  9.686021e-01\n",
       "1    47.718744  0.870998  1.000000e+00\n",
       "2    54.851494  0.012144  4.707924e-09\n",
       "3    65.825657  0.954919  1.000000e+00\n",
       "4    62.547561  0.043319  0.000000e+00\n",
       "..         ...       ...           ...\n",
       "506  50.823536  0.000228  0.000000e+00\n",
       "507  34.161962  0.999963  1.000000e+00\n",
       "508  67.620168  0.017368  1.884714e-05\n",
       "509  42.060765  0.999994  1.000000e+00\n",
       "510  58.182496  0.026997  1.325970e-08\n",
       "\n",
       "[511 rows x 3 columns]"
      ]
     },
     "execution_count": 29,
     "metadata": {},
     "output_type": "execute_result"
    }
   ],
   "source": [
    "pd.DataFrame(np.mean(d,axis=1)).to_csv(\"111.csv\")"
   ]
  },
  {
   "cell_type": "code",
   "execution_count": 30,
   "metadata": {},
   "outputs": [
    {
     "data": {
      "text/html": [
       "<div>\n",
       "<style scoped>\n",
       "    .dataframe tbody tr th:only-of-type {\n",
       "        vertical-align: middle;\n",
       "    }\n",
       "\n",
       "    .dataframe tbody tr th {\n",
       "        vertical-align: top;\n",
       "    }\n",
       "\n",
       "    .dataframe thead th {\n",
       "        text-align: right;\n",
       "    }\n",
       "</style>\n",
       "<table border=\"1\" class=\"dataframe\">\n",
       "  <thead>\n",
       "    <tr style=\"text-align: right;\">\n",
       "      <th></th>\n",
       "      <th>rnn</th>\n",
       "      <th>gcn</th>\n",
       "      <th>dcan</th>\n",
       "    </tr>\n",
       "  </thead>\n",
       "  <tbody>\n",
       "    <tr>\n",
       "      <th>0</th>\n",
       "      <td>63.860352</td>\n",
       "      <td>0.990838</td>\n",
       "      <td>9.686021e-01</td>\n",
       "    </tr>\n",
       "    <tr>\n",
       "      <th>1</th>\n",
       "      <td>47.718744</td>\n",
       "      <td>0.870998</td>\n",
       "      <td>1.000000e+00</td>\n",
       "    </tr>\n",
       "    <tr>\n",
       "      <th>2</th>\n",
       "      <td>54.851494</td>\n",
       "      <td>0.012144</td>\n",
       "      <td>4.707924e-09</td>\n",
       "    </tr>\n",
       "    <tr>\n",
       "      <th>3</th>\n",
       "      <td>65.825657</td>\n",
       "      <td>0.954919</td>\n",
       "      <td>1.000000e+00</td>\n",
       "    </tr>\n",
       "    <tr>\n",
       "      <th>4</th>\n",
       "      <td>62.547561</td>\n",
       "      <td>0.043319</td>\n",
       "      <td>0.000000e+00</td>\n",
       "    </tr>\n",
       "    <tr>\n",
       "      <th>...</th>\n",
       "      <td>...</td>\n",
       "      <td>...</td>\n",
       "      <td>...</td>\n",
       "    </tr>\n",
       "    <tr>\n",
       "      <th>506</th>\n",
       "      <td>50.823536</td>\n",
       "      <td>0.000228</td>\n",
       "      <td>0.000000e+00</td>\n",
       "    </tr>\n",
       "    <tr>\n",
       "      <th>507</th>\n",
       "      <td>34.161962</td>\n",
       "      <td>0.999963</td>\n",
       "      <td>1.000000e+00</td>\n",
       "    </tr>\n",
       "    <tr>\n",
       "      <th>508</th>\n",
       "      <td>67.620168</td>\n",
       "      <td>0.017368</td>\n",
       "      <td>1.884714e-05</td>\n",
       "    </tr>\n",
       "    <tr>\n",
       "      <th>509</th>\n",
       "      <td>42.060765</td>\n",
       "      <td>0.999994</td>\n",
       "      <td>1.000000e+00</td>\n",
       "    </tr>\n",
       "    <tr>\n",
       "      <th>510</th>\n",
       "      <td>58.182496</td>\n",
       "      <td>0.026997</td>\n",
       "      <td>1.325970e-08</td>\n",
       "    </tr>\n",
       "  </tbody>\n",
       "</table>\n",
       "<p>511 rows × 3 columns</p>\n",
       "</div>"
      ],
      "text/plain": [
       "           rnn       gcn          dcan\n",
       "0    63.860352  0.990838  9.686021e-01\n",
       "1    47.718744  0.870998  1.000000e+00\n",
       "2    54.851494  0.012144  4.707924e-09\n",
       "3    65.825657  0.954919  1.000000e+00\n",
       "4    62.547561  0.043319  0.000000e+00\n",
       "..         ...       ...           ...\n",
       "506  50.823536  0.000228  0.000000e+00\n",
       "507  34.161962  0.999963  1.000000e+00\n",
       "508  67.620168  0.017368  1.884714e-05\n",
       "509  42.060765  0.999994  1.000000e+00\n",
       "510  58.182496  0.026997  1.325970e-08\n",
       "\n",
       "[511 rows x 3 columns]"
      ]
     },
     "execution_count": 30,
     "metadata": {},
     "output_type": "execute_result"
    }
   ],
   "source": [
    "pd.read_csv(\"result_raw.csv\").iloc[:,2:5]"
   ]
  },
  {
   "cell_type": "code",
   "execution_count": null,
   "metadata": {},
   "outputs": [
    {
     "name": "stdout",
     "output_type": "stream",
     "text": [
      "fun:\n",
      "                                                smiles        rnn       gcn  \\\n",
      "0    C=CC[C@@H](C)C(=O)N1CCCC[C@@H]1c1cc(NC(=O)[C@@...   8.531568  0.000391   \n",
      "1                         CNC(=O)c1ncccc1O[C@H](C)CS\\n  43.594029  0.003619   \n",
      "2         C=CCC1(C(=O)NC[C@@H](Nc2nccnc2F)C2CC2)CCC1\\n  35.532036  0.000230   \n",
      "3             CCCn1c2ccccc2c2nnc(SCc3ccc(C#N)s3)nc21\\n  60.204174  0.000644   \n",
      "4         C=CCOC(=O)[C@H](Cc1ccccc1)NC(=O)/C=C/C=C/C\\n  62.537257  0.002295   \n",
      "..                                                 ...        ...       ...   \n",
      "507            N#Cc1ccc(NC[C@H](O)c2ccc(Cl)cc2Cl)cn1\\n  69.331371  0.012191   \n",
      "508  C[C@@H](C(=O)N1CC[C@H](Nc2ccc(C#N)nn2)C1)c1ccc...  61.161897  0.001353   \n",
      "509      Cc1ccccc1O[C@H](C)CNS(=O)(=O)CC1(C#N)CCCCC1\\n  41.856090  0.001271   \n",
      "510                  C=CCN(C(=O)/C=C\\CN1CCOCC1)C1CC1\\n  54.114608  0.000238   \n",
      "511      C#CCNC(=O)C1CCN(c2nnc(Cc3cccc4ccccc34)n2C)CC1  31.679232  0.001306   \n",
      "\n",
      "             dcan  \n",
      "0    4.163915e-24  \n",
      "1    7.716884e-01  \n",
      "2    4.207537e-24  \n",
      "3    1.029486e-08  \n",
      "4    9.999971e-01  \n",
      "..            ...  \n",
      "507  5.468949e-01  \n",
      "508  4.369089e-14  \n",
      "509  8.836221e-12  \n",
      "510  9.837006e-06  \n",
      "511  3.989821e-24  \n",
      "\n",
      "[512 rows x 4 columns]\n"
     ]
    }
   ],
   "source": [
    "import numpy as np\n",
    "import pandas as pd\n",
    "from her_classfier import her_classifer\n",
    "from ins_classfier import ins_classifer\n",
    "from fun_classfier import fun_classifer\n",
    "from all_classfier import all_classifer\n",
    "result=pd.DataFrame([])\n",
    "filepath=\"/home/cyy/.vscode-server/2024SRT/test.txt\"\n",
    "\n",
    "# res=all_classifer(filepath)\n",
    "# print(\"all:\")\n",
    "# print(res)\n",
    "# res.to_csv(\"result_raw.csv\")\n",
    "# res['rnn']=[1 if i>50 else 0 for i in res['rnn']]\n",
    "# res['gcn']=[1 if i>0.5 else 0 for i in res['gcn']]\n",
    "# res['dcan']=[1 if i>0.15 else 0 for i in res['dcan']]\n",
    "# res['result']=[1 if sum(res.iloc[i,1:4])>=2 else 0 for i in range(len(res['rnn']))]\n",
    "# result['pes_res']=res['result']\n",
    "\n",
    "res=fun_classifer(filepath)\n",
    "print(\"fun:\")\n",
    "print(res)\n",
    "res.to_csv(\"/home/cyy/.vscode-server/2024SRT/result_raw.csv\")\n",
    "res['rnn']=[1 if i>60 else 0 for i in res['rnn']]\n",
    "res['gcn']=[1 if i>0.5 else 0 for i in res['gcn']]\n",
    "res['dcan']=[1 if i>0.15 else 0 for i in res['dcan']]\n",
    "res['result']=[1 if sum(res.iloc[i,1:4])>=2 else 0 for i in range(len(res['rnn']))]\n",
    "result['fun_res']=res['result'] \n",
    "\n",
    "# res=her_classifer(filepath)\n",
    "# print(\"her:\")\n",
    "# print(res)\n",
    "# res['rnn']=[1 if i>60 else 0 for i in res['rnn']]\n",
    "# res['gcn']=[1 if i>0.5 else 0 for i in res['gcn']]\n",
    "# res['dcan']=[1 if i>0.15 else 0 for i in res['dcan']]\n",
    "# res['result']=[1 if sum(res.iloc[i,1:4])>=2 else 0 for i in range(len(res['rnn']))]\n",
    "# result['her_res']=res['result']\n",
    "\n",
    "# res=ins_classifer(filepath)\n",
    "# print(\"ins:\")\n",
    "# print(res)\n",
    "# res['rnn']=[1 if i>60 else 0 for i in res['rnn']]\n",
    "# res['gcn']=[1 if i>0.5 else 0 for i in res['gcn']]\n",
    "# res['dcan']=[1 if i>0.15 else 0 for i in res['dcan']]\n",
    "# res['result']=[1 if sum(res.iloc[i,1:4])>=2 else 0 for i in range(len(res['rnn']))]\n",
    "# result['ins_res']=res['result']\n",
    "res.to_csv(\"/home/cyy/.vscode-server/2024SRT/result.csv\")"
   ]
  },
  {
   "cell_type": "code",
   "execution_count": null,
   "metadata": {},
   "outputs": [
    {
     "name": "stdout",
     "output_type": "stream",
     "text": [
      "0.5918367346938775\n",
      "0.8163265306122449\n",
      "0.7755102040816326\n",
      "0.7755102040816326\n"
     ]
    }
   ],
   "source": [
    "data=pd.read_csv(\"result15+34.csv\")\n",
    "data\n",
    "acc_rnn=sum(data['rnn']==data['true'])/len(data['rnn'])\n",
    "print(acc_rnn)\n",
    "acc_gcn=sum(data['gcn']==data['true'])/len(data['rnn'])\n",
    "print(acc_gcn)\n",
    "acc_dcan=sum(data['dcan']==data['true'])/len(data['rnn'])\n",
    "print(acc_dcan)\n",
    "acc_model=sum(data['result']==data['true'])/len(data['rnn'])\n",
    "print(acc_model)"
   ]
  },
  {
   "cell_type": "code",
   "execution_count": 2,
   "metadata": {},
   "outputs": [
    {
     "name": "stdout",
     "output_type": "stream",
     "text": [
      "0.675146771037182\n",
      "0.45401174168297453\n",
      "0.5440313111545988\n",
      "0.5655577299412916\n"
     ]
    }
   ],
   "source": [
    "data=pd.read_csv(\"result.csv\")\n",
    "data\n",
    "acc_rnn=sum(data['rnn']==1)/len(data['rnn'])\n",
    "print(acc_rnn)\n",
    "acc_gcn=sum(data['gcn']==1)/len(data['rnn'])\n",
    "print(acc_gcn)\n",
    "acc_dcan=sum(data['dcan']==1)/len(data['rnn'])\n",
    "print(acc_dcan)\n",
    "acc_model=sum(data['result']==1)/len(data['rnn'])\n",
    "print(acc_model)"
   ]
  },
  {
   "cell_type": "code",
   "execution_count": null,
   "metadata": {},
   "outputs": [
    {
     "data": {
      "text/plain": [
       "(array([ 1,  2,  3,  5,  7,  8,  9, 10, 11, 13]),)"
      ]
     },
     "execution_count": 59,
     "metadata": {},
     "output_type": "execute_result"
    }
   ],
   "source": [
    "np.where((data['gcn']==1) & (data['true']==1))[0]"
   ]
  },
  {
   "cell_type": "code",
   "execution_count": null,
   "metadata": {},
   "outputs": [
    {
     "name": "stdout",
     "output_type": "stream",
     "text": [
      "0.20408163265306123\n"
     ]
    }
   ],
   "source": [
    "acc_gcn=len(np.where((data['result']==0) & (data['true']==1))[0])/len(data['rnn'])\n",
    "print(acc_gcn)"
   ]
  },
  {
   "cell_type": "code",
   "execution_count": 23,
   "metadata": {},
   "outputs": [
    {
     "data": {
      "text/plain": [
       "0.4696969696969697"
      ]
     },
     "execution_count": 23,
     "metadata": {},
     "output_type": "execute_result"
    }
   ],
   "source": [
    "sum(res['result'])/len(res['result'])"
   ]
  },
  {
   "cell_type": "code",
   "execution_count": 14,
   "metadata": {},
   "outputs": [
    {
     "data": {
      "text/plain": [
       "0.20075757575757575"
      ]
     },
     "execution_count": 14,
     "metadata": {},
     "output_type": "execute_result"
    }
   ],
   "source": [
    "sum(res['rnn'])/len(res['rnn'])"
   ]
  },
  {
   "cell_type": "code",
   "execution_count": 7,
   "metadata": {},
   "outputs": [
    {
     "data": {
      "text/plain": [
       "<All keys matched successfully>"
      ]
     },
     "execution_count": 7,
     "metadata": {},
     "output_type": "execute_result"
    }
   ],
   "source": [
    "k=111\n",
    "fm='rnn_model_all_all'+str(k)+'.pth'\n",
    "fm\n",
    "gcn_model.load_state_dict(torch.load(fm))\n"
   ]
  },
  {
   "cell_type": "code",
   "execution_count": 1,
   "metadata": {},
   "outputs": [
    {
     "data": {
      "text/html": [
       "<div>\n",
       "<style scoped>\n",
       "    .dataframe tbody tr th:only-of-type {\n",
       "        vertical-align: middle;\n",
       "    }\n",
       "\n",
       "    .dataframe tbody tr th {\n",
       "        vertical-align: top;\n",
       "    }\n",
       "\n",
       "    .dataframe thead th {\n",
       "        text-align: right;\n",
       "    }\n",
       "</style>\n",
       "<table border=\"1\" class=\"dataframe\">\n",
       "  <thead>\n",
       "    <tr style=\"text-align: right;\">\n",
       "      <th></th>\n",
       "      <th>smiles</th>\n",
       "      <th>rnn</th>\n",
       "      <th>gcn</th>\n",
       "      <th>dcan</th>\n",
       "    </tr>\n",
       "  </thead>\n",
       "  <tbody>\n",
       "    <tr>\n",
       "      <th>0</th>\n",
       "      <td>CCn1ccnc1CNc1nc(C)nc2ccc(OC)cc21\\n</td>\n",
       "      <td>49.056779</td>\n",
       "      <td>0.000060</td>\n",
       "      <td>1.729275e-24</td>\n",
       "    </tr>\n",
       "    <tr>\n",
       "      <th>1</th>\n",
       "      <td>COC(=O)c1nccc2c(C3=CCS(=O)(=O)CC3)cccc21\\n</td>\n",
       "      <td>55.633046</td>\n",
       "      <td>0.000027</td>\n",
       "      <td>1.859170e-19</td>\n",
       "    </tr>\n",
       "    <tr>\n",
       "      <th>2</th>\n",
       "      <td>C[C@@H](Cc1nc(COCc2ccccc2)no1)n1cccn1\\n</td>\n",
       "      <td>53.109209</td>\n",
       "      <td>0.000008</td>\n",
       "      <td>6.545239e-16</td>\n",
       "    </tr>\n",
       "    <tr>\n",
       "      <th>3</th>\n",
       "      <td>CS[C@H](C)CCC(=O)OCc1nc(-c2ccccc2)oc1C\\n</td>\n",
       "      <td>57.187644</td>\n",
       "      <td>0.000007</td>\n",
       "      <td>1.250689e-14</td>\n",
       "    </tr>\n",
       "    <tr>\n",
       "      <th>4</th>\n",
       "      <td>CC(C)CCC[C@H](C)NS(=O)(=O)c1cnn(C2CCCC2)c1\\n</td>\n",
       "      <td>47.840925</td>\n",
       "      <td>0.000004</td>\n",
       "      <td>2.080294e-16</td>\n",
       "    </tr>\n",
       "    <tr>\n",
       "      <th>...</th>\n",
       "      <td>...</td>\n",
       "      <td>...</td>\n",
       "      <td>...</td>\n",
       "      <td>...</td>\n",
       "    </tr>\n",
       "    <tr>\n",
       "      <th>295</th>\n",
       "      <td>C=CCc1ccccc1OC[C@@H](O)Cn1cnc2scc(-c3ccccc3)c2...</td>\n",
       "      <td>32.351746</td>\n",
       "      <td>0.000011</td>\n",
       "      <td>2.409221e-22</td>\n",
       "    </tr>\n",
       "    <tr>\n",
       "      <th>296</th>\n",
       "      <td>CCOC[C@@H](C)CS(=O)(=O)N1CCC2=C(CCC(=O)N2)C1\\n</td>\n",
       "      <td>49.947694</td>\n",
       "      <td>0.000005</td>\n",
       "      <td>3.942601e-24</td>\n",
       "    </tr>\n",
       "    <tr>\n",
       "      <th>297</th>\n",
       "      <td>CC(C)(C)c1cc2c(N3CC[C@@H](N4CCOC4=O)C3)nccn2n1\\n</td>\n",
       "      <td>32.898167</td>\n",
       "      <td>0.000008</td>\n",
       "      <td>5.827471e-33</td>\n",
       "    </tr>\n",
       "    <tr>\n",
       "      <th>298</th>\n",
       "      <td>CO[C@@H]1[C@H](C)[C@H](NC(=S)NC2(C)CC2)C1(C)C\\n</td>\n",
       "      <td>44.432020</td>\n",
       "      <td>0.000004</td>\n",
       "      <td>9.067624e-18</td>\n",
       "    </tr>\n",
       "    <tr>\n",
       "      <th>299</th>\n",
       "      <td>Cn1cnc2c1[C@H](COCc1cccnc1)N(Cc1ccc3cccnc3c1)CC2</td>\n",
       "      <td>41.896023</td>\n",
       "      <td>0.000005</td>\n",
       "      <td>2.047436e-28</td>\n",
       "    </tr>\n",
       "  </tbody>\n",
       "</table>\n",
       "<p>300 rows × 4 columns</p>\n",
       "</div>"
      ],
      "text/plain": [
       "                                                smiles        rnn       gcn  \\\n",
       "0                   CCn1ccnc1CNc1nc(C)nc2ccc(OC)cc21\\n  49.056779  0.000060   \n",
       "1           COC(=O)c1nccc2c(C3=CCS(=O)(=O)CC3)cccc21\\n  55.633046  0.000027   \n",
       "2              C[C@@H](Cc1nc(COCc2ccccc2)no1)n1cccn1\\n  53.109209  0.000008   \n",
       "3             CS[C@H](C)CCC(=O)OCc1nc(-c2ccccc2)oc1C\\n  57.187644  0.000007   \n",
       "4         CC(C)CCC[C@H](C)NS(=O)(=O)c1cnn(C2CCCC2)c1\\n  47.840925  0.000004   \n",
       "..                                                 ...        ...       ...   \n",
       "295  C=CCc1ccccc1OC[C@@H](O)Cn1cnc2scc(-c3ccccc3)c2...  32.351746  0.000011   \n",
       "296     CCOC[C@@H](C)CS(=O)(=O)N1CCC2=C(CCC(=O)N2)C1\\n  49.947694  0.000005   \n",
       "297   CC(C)(C)c1cc2c(N3CC[C@@H](N4CCOC4=O)C3)nccn2n1\\n  32.898167  0.000008   \n",
       "298    CO[C@@H]1[C@H](C)[C@H](NC(=S)NC2(C)CC2)C1(C)C\\n  44.432020  0.000004   \n",
       "299   Cn1cnc2c1[C@H](COCc1cccnc1)N(Cc1ccc3cccnc3c1)CC2  41.896023  0.000005   \n",
       "\n",
       "             dcan  \n",
       "0    1.729275e-24  \n",
       "1    1.859170e-19  \n",
       "2    6.545239e-16  \n",
       "3    1.250689e-14  \n",
       "4    2.080294e-16  \n",
       "..            ...  \n",
       "295  2.409221e-22  \n",
       "296  3.942601e-24  \n",
       "297  5.827471e-33  \n",
       "298  9.067624e-18  \n",
       "299  2.047436e-28  \n",
       "\n",
       "[300 rows x 4 columns]"
      ]
     },
     "execution_count": 1,
     "metadata": {},
     "output_type": "execute_result"
    }
   ],
   "source": [
    "import sys\n",
    "import torch\n",
    "from src.models import RNNLM, GCNModel  #import models相当于执行了__init__.py的内容,这里相当于从__init__.py里面引用RNNLM\n",
    "import numpy as np\n",
    "import random\n",
    "from her_classfier import her_classifer\n",
    "from ins_classfier import ins_classifer\n",
    "from fun_classfier import fun_classifer\n",
    "from all_classfier import all_classifer\n",
    "sys.path.append(\"/home/cyy/.vscode-server/2024SRT/D-GCAN-main\")\n",
    "from DGCAN.DGCAN import MolecularGraphNeuralNetwork, Trainer, Tester\n",
    "import DGCAN.preprocess as pp\n",
    "# pos_data=list(open(\"/home/cyy/.vscode-server/2024SRT/her1.txt\"))\n",
    "# neg_data=list(open(\"/home/cyy/.vscode-server/2024SRT/neg.txt\"))[:len(pos_data)]\n",
    "# dcan_data=pp.get_dcan_dataset(pos_data,neg_data)\n",
    "filepath=\"/home/cyy/.vscode-server/2024SRT/test.txt\"\n",
    "res=her_classifer(filepath)\n",
    "res"
   ]
  },
  {
   "cell_type": "code",
   "execution_count": 2,
   "metadata": {},
   "outputs": [
    {
     "data": {
      "text/plain": [
       "0.12422688626279628"
      ]
     },
     "execution_count": 2,
     "metadata": {},
     "output_type": "execute_result"
    }
   ],
   "source": [
    "np.mean(res['dcan'])"
   ]
  },
  {
   "cell_type": "code",
   "execution_count": 2,
   "metadata": {},
   "outputs": [
    {
     "ename": "KeyboardInterrupt",
     "evalue": "",
     "output_type": "error",
     "traceback": [
      "\u001b[0;31m---------------------------------------------------------------------------\u001b[0m",
      "\u001b[0;31mKeyboardInterrupt\u001b[0m                         Traceback (most recent call last)",
      "\u001b[0;32m/tmp/ipykernel_4018438/2309965641.py\u001b[0m in \u001b[0;36m<module>\u001b[0;34m\u001b[0m\n\u001b[1;32m     19\u001b[0m \u001b[0mgcn_train_params\u001b[0m\u001b[0;34m=\u001b[0m\u001b[0mgcn_para\u001b[0m\u001b[0;34m[\u001b[0m\u001b[0;34m\"train\"\u001b[0m\u001b[0;34m]\u001b[0m\u001b[0;34m\u001b[0m\u001b[0;34m\u001b[0m\u001b[0m\n\u001b[1;32m     20\u001b[0m \u001b[0mgcn_model\u001b[0m \u001b[0;34m=\u001b[0m \u001b[0mGCNModel\u001b[0m\u001b[0;34m(\u001b[0m\u001b[0mgcn_model_params\u001b[0m\u001b[0;34m)\u001b[0m\u001b[0;34m\u001b[0m\u001b[0;34m\u001b[0m\u001b[0m\n\u001b[0;32m---> 21\u001b[0;31m \u001b[0mgcn_model\u001b[0m\u001b[0;34m.\u001b[0m\u001b[0mload_state_dict\u001b[0m\u001b[0;34m(\u001b[0m\u001b[0mtorch\u001b[0m\u001b[0;34m.\u001b[0m\u001b[0mload\u001b[0m\u001b[0;34m(\u001b[0m\u001b[0;34m'/home/cyy/.vscode-server/gcn_model_all_her.pth'\u001b[0m\u001b[0;34m)\u001b[0m\u001b[0;34m)\u001b[0m\u001b[0;34m\u001b[0m\u001b[0;34m\u001b[0m\u001b[0m\n\u001b[0m\u001b[1;32m     22\u001b[0m \u001b[0;32mwith\u001b[0m \u001b[0mopen\u001b[0m\u001b[0;34m(\u001b[0m\u001b[0mfile\u001b[0m\u001b[0;34m=\u001b[0m\u001b[0;34m\"/home/cyy/.vscode-server//2024SRT/test/config/rnn.yaml\"\u001b[0m\u001b[0;34m,\u001b[0m \u001b[0mmode\u001b[0m\u001b[0;34m=\u001b[0m\u001b[0;34m\"r\"\u001b[0m\u001b[0;34m,\u001b[0m\u001b[0mencoding\u001b[0m\u001b[0;34m=\u001b[0m\u001b[0;34m'utf-8'\u001b[0m\u001b[0;34m)\u001b[0m \u001b[0;32mas\u001b[0m \u001b[0mf\u001b[0m\u001b[0;34m:\u001b[0m\u001b[0;34m\u001b[0m\u001b[0;34m\u001b[0m\u001b[0m\n\u001b[1;32m     23\u001b[0m     \u001b[0mrnn_para\u001b[0m \u001b[0;34m=\u001b[0m \u001b[0myaml\u001b[0m\u001b[0;34m.\u001b[0m\u001b[0msafe_load\u001b[0m\u001b[0;34m(\u001b[0m\u001b[0mf\u001b[0m\u001b[0;34m)\u001b[0m\u001b[0;34m\u001b[0m\u001b[0;34m\u001b[0m\u001b[0m\n",
      "\u001b[0;32m~/.local/lib/python3.7/site-packages/torch/serialization.py\u001b[0m in \u001b[0;36mload\u001b[0;34m(f, map_location, pickle_module, weights_only, **pickle_load_args)\u001b[0m\n\u001b[1;32m    787\u001b[0m                     \u001b[0;32mexcept\u001b[0m \u001b[0mRuntimeError\u001b[0m \u001b[0;32mas\u001b[0m \u001b[0me\u001b[0m\u001b[0;34m:\u001b[0m\u001b[0;34m\u001b[0m\u001b[0;34m\u001b[0m\u001b[0m\n\u001b[1;32m    788\u001b[0m                         \u001b[0;32mraise\u001b[0m \u001b[0mpickle\u001b[0m\u001b[0;34m.\u001b[0m\u001b[0mUnpicklingError\u001b[0m\u001b[0;34m(\u001b[0m\u001b[0mUNSAFE_MESSAGE\u001b[0m \u001b[0;34m+\u001b[0m \u001b[0mstr\u001b[0m\u001b[0;34m(\u001b[0m\u001b[0me\u001b[0m\u001b[0;34m)\u001b[0m\u001b[0;34m)\u001b[0m \u001b[0;32mfrom\u001b[0m \u001b[0;32mNone\u001b[0m\u001b[0;34m\u001b[0m\u001b[0;34m\u001b[0m\u001b[0m\n\u001b[0;32m--> 789\u001b[0;31m                 \u001b[0;32mreturn\u001b[0m \u001b[0m_load\u001b[0m\u001b[0;34m(\u001b[0m\u001b[0mopened_zipfile\u001b[0m\u001b[0;34m,\u001b[0m \u001b[0mmap_location\u001b[0m\u001b[0;34m,\u001b[0m \u001b[0mpickle_module\u001b[0m\u001b[0;34m,\u001b[0m \u001b[0;34m**\u001b[0m\u001b[0mpickle_load_args\u001b[0m\u001b[0;34m)\u001b[0m\u001b[0;34m\u001b[0m\u001b[0;34m\u001b[0m\u001b[0m\n\u001b[0m\u001b[1;32m    790\u001b[0m         \u001b[0;32mif\u001b[0m \u001b[0mweights_only\u001b[0m\u001b[0;34m:\u001b[0m\u001b[0;34m\u001b[0m\u001b[0;34m\u001b[0m\u001b[0m\n\u001b[1;32m    791\u001b[0m             \u001b[0;32mtry\u001b[0m\u001b[0;34m:\u001b[0m\u001b[0;34m\u001b[0m\u001b[0;34m\u001b[0m\u001b[0m\n",
      "\u001b[0;32m~/.local/lib/python3.7/site-packages/torch/serialization.py\u001b[0m in \u001b[0;36m_load\u001b[0;34m(zip_file, map_location, pickle_module, pickle_file, **pickle_load_args)\u001b[0m\n\u001b[1;32m   1129\u001b[0m     \u001b[0munpickler\u001b[0m \u001b[0;34m=\u001b[0m \u001b[0mUnpicklerWrapper\u001b[0m\u001b[0;34m(\u001b[0m\u001b[0mdata_file\u001b[0m\u001b[0;34m,\u001b[0m \u001b[0;34m**\u001b[0m\u001b[0mpickle_load_args\u001b[0m\u001b[0;34m)\u001b[0m\u001b[0;34m\u001b[0m\u001b[0;34m\u001b[0m\u001b[0m\n\u001b[1;32m   1130\u001b[0m     \u001b[0munpickler\u001b[0m\u001b[0;34m.\u001b[0m\u001b[0mpersistent_load\u001b[0m \u001b[0;34m=\u001b[0m \u001b[0mpersistent_load\u001b[0m\u001b[0;34m\u001b[0m\u001b[0;34m\u001b[0m\u001b[0m\n\u001b[0;32m-> 1131\u001b[0;31m     \u001b[0mresult\u001b[0m \u001b[0;34m=\u001b[0m \u001b[0munpickler\u001b[0m\u001b[0;34m.\u001b[0m\u001b[0mload\u001b[0m\u001b[0;34m(\u001b[0m\u001b[0;34m)\u001b[0m\u001b[0;34m\u001b[0m\u001b[0;34m\u001b[0m\u001b[0m\n\u001b[0m\u001b[1;32m   1132\u001b[0m \u001b[0;34m\u001b[0m\u001b[0m\n\u001b[1;32m   1133\u001b[0m     \u001b[0mtorch\u001b[0m\u001b[0;34m.\u001b[0m\u001b[0m_utils\u001b[0m\u001b[0;34m.\u001b[0m\u001b[0m_validate_loaded_sparse_tensors\u001b[0m\u001b[0;34m(\u001b[0m\u001b[0;34m)\u001b[0m\u001b[0;34m\u001b[0m\u001b[0;34m\u001b[0m\u001b[0m\n",
      "\u001b[0;32m~/.local/lib/python3.7/site-packages/torch/serialization.py\u001b[0m in \u001b[0;36mpersistent_load\u001b[0;34m(saved_id)\u001b[0m\n\u001b[1;32m   1099\u001b[0m         \u001b[0;32mif\u001b[0m \u001b[0mkey\u001b[0m \u001b[0;32mnot\u001b[0m \u001b[0;32min\u001b[0m \u001b[0mloaded_storages\u001b[0m\u001b[0;34m:\u001b[0m\u001b[0;34m\u001b[0m\u001b[0;34m\u001b[0m\u001b[0m\n\u001b[1;32m   1100\u001b[0m             \u001b[0mnbytes\u001b[0m \u001b[0;34m=\u001b[0m \u001b[0mnumel\u001b[0m \u001b[0;34m*\u001b[0m \u001b[0mtorch\u001b[0m\u001b[0;34m.\u001b[0m\u001b[0m_utils\u001b[0m\u001b[0;34m.\u001b[0m\u001b[0m_element_size\u001b[0m\u001b[0;34m(\u001b[0m\u001b[0mdtype\u001b[0m\u001b[0;34m)\u001b[0m\u001b[0;34m\u001b[0m\u001b[0;34m\u001b[0m\u001b[0m\n\u001b[0;32m-> 1101\u001b[0;31m             \u001b[0mload_tensor\u001b[0m\u001b[0;34m(\u001b[0m\u001b[0mdtype\u001b[0m\u001b[0;34m,\u001b[0m \u001b[0mnbytes\u001b[0m\u001b[0;34m,\u001b[0m \u001b[0mkey\u001b[0m\u001b[0;34m,\u001b[0m \u001b[0m_maybe_decode_ascii\u001b[0m\u001b[0;34m(\u001b[0m\u001b[0mlocation\u001b[0m\u001b[0;34m)\u001b[0m\u001b[0;34m)\u001b[0m\u001b[0;34m\u001b[0m\u001b[0;34m\u001b[0m\u001b[0m\n\u001b[0m\u001b[1;32m   1102\u001b[0m \u001b[0;34m\u001b[0m\u001b[0m\n\u001b[1;32m   1103\u001b[0m         \u001b[0;32mreturn\u001b[0m \u001b[0mloaded_storages\u001b[0m\u001b[0;34m[\u001b[0m\u001b[0mkey\u001b[0m\u001b[0;34m]\u001b[0m\u001b[0;34m\u001b[0m\u001b[0;34m\u001b[0m\u001b[0m\n",
      "\u001b[0;32m~/.local/lib/python3.7/site-packages/torch/serialization.py\u001b[0m in \u001b[0;36mload_tensor\u001b[0;34m(dtype, numel, key, location)\u001b[0m\n\u001b[1;32m   1081\u001b[0m         \u001b[0;31m# stop wrapping with TypedStorage\u001b[0m\u001b[0;34m\u001b[0m\u001b[0;34m\u001b[0m\u001b[0;34m\u001b[0m\u001b[0m\n\u001b[1;32m   1082\u001b[0m         loaded_storages[key] = torch.storage.TypedStorage(\n\u001b[0;32m-> 1083\u001b[0;31m             \u001b[0mwrap_storage\u001b[0m\u001b[0;34m=\u001b[0m\u001b[0mrestore_location\u001b[0m\u001b[0;34m(\u001b[0m\u001b[0mstorage\u001b[0m\u001b[0;34m,\u001b[0m \u001b[0mlocation\u001b[0m\u001b[0;34m)\u001b[0m\u001b[0;34m,\u001b[0m\u001b[0;34m\u001b[0m\u001b[0;34m\u001b[0m\u001b[0m\n\u001b[0m\u001b[1;32m   1084\u001b[0m             dtype=dtype)\n\u001b[1;32m   1085\u001b[0m \u001b[0;34m\u001b[0m\u001b[0m\n",
      "\u001b[0;32m~/.local/lib/python3.7/site-packages/torch/serialization.py\u001b[0m in \u001b[0;36mdefault_restore_location\u001b[0;34m(storage, location)\u001b[0m\n\u001b[1;32m    213\u001b[0m \u001b[0;32mdef\u001b[0m \u001b[0mdefault_restore_location\u001b[0m\u001b[0;34m(\u001b[0m\u001b[0mstorage\u001b[0m\u001b[0;34m,\u001b[0m \u001b[0mlocation\u001b[0m\u001b[0;34m)\u001b[0m\u001b[0;34m:\u001b[0m\u001b[0;34m\u001b[0m\u001b[0;34m\u001b[0m\u001b[0m\n\u001b[1;32m    214\u001b[0m     \u001b[0;32mfor\u001b[0m \u001b[0m_\u001b[0m\u001b[0;34m,\u001b[0m \u001b[0m_\u001b[0m\u001b[0;34m,\u001b[0m \u001b[0mfn\u001b[0m \u001b[0;32min\u001b[0m \u001b[0m_package_registry\u001b[0m\u001b[0;34m:\u001b[0m\u001b[0;34m\u001b[0m\u001b[0;34m\u001b[0m\u001b[0m\n\u001b[0;32m--> 215\u001b[0;31m         \u001b[0mresult\u001b[0m \u001b[0;34m=\u001b[0m \u001b[0mfn\u001b[0m\u001b[0;34m(\u001b[0m\u001b[0mstorage\u001b[0m\u001b[0;34m,\u001b[0m \u001b[0mlocation\u001b[0m\u001b[0;34m)\u001b[0m\u001b[0;34m\u001b[0m\u001b[0;34m\u001b[0m\u001b[0m\n\u001b[0m\u001b[1;32m    216\u001b[0m         \u001b[0;32mif\u001b[0m \u001b[0mresult\u001b[0m \u001b[0;32mis\u001b[0m \u001b[0;32mnot\u001b[0m \u001b[0;32mNone\u001b[0m\u001b[0;34m:\u001b[0m\u001b[0;34m\u001b[0m\u001b[0;34m\u001b[0m\u001b[0m\n\u001b[1;32m    217\u001b[0m             \u001b[0;32mreturn\u001b[0m \u001b[0mresult\u001b[0m\u001b[0;34m\u001b[0m\u001b[0;34m\u001b[0m\u001b[0m\n",
      "\u001b[0;32m~/.local/lib/python3.7/site-packages/torch/serialization.py\u001b[0m in \u001b[0;36m_cuda_deserialize\u001b[0;34m(obj, location)\u001b[0m\n\u001b[1;32m    185\u001b[0m                 \u001b[0;32mreturn\u001b[0m \u001b[0mtorch\u001b[0m\u001b[0;34m.\u001b[0m\u001b[0mUntypedStorage\u001b[0m\u001b[0;34m(\u001b[0m\u001b[0mobj\u001b[0m\u001b[0;34m.\u001b[0m\u001b[0mnbytes\u001b[0m\u001b[0;34m(\u001b[0m\u001b[0;34m)\u001b[0m\u001b[0;34m,\u001b[0m \u001b[0mdevice\u001b[0m\u001b[0;34m=\u001b[0m\u001b[0mtorch\u001b[0m\u001b[0;34m.\u001b[0m\u001b[0mdevice\u001b[0m\u001b[0;34m(\u001b[0m\u001b[0mlocation\u001b[0m\u001b[0;34m)\u001b[0m\u001b[0;34m)\u001b[0m\u001b[0;34m\u001b[0m\u001b[0;34m\u001b[0m\u001b[0m\n\u001b[1;32m    186\u001b[0m         \u001b[0;32melse\u001b[0m\u001b[0;34m:\u001b[0m\u001b[0;34m\u001b[0m\u001b[0;34m\u001b[0m\u001b[0m\n\u001b[0;32m--> 187\u001b[0;31m             \u001b[0;32mreturn\u001b[0m \u001b[0mobj\u001b[0m\u001b[0;34m.\u001b[0m\u001b[0mcuda\u001b[0m\u001b[0;34m(\u001b[0m\u001b[0mdevice\u001b[0m\u001b[0;34m)\u001b[0m\u001b[0;34m\u001b[0m\u001b[0;34m\u001b[0m\u001b[0m\n\u001b[0m\u001b[1;32m    188\u001b[0m \u001b[0;34m\u001b[0m\u001b[0m\n\u001b[1;32m    189\u001b[0m \u001b[0;32mdef\u001b[0m \u001b[0m_mps_deserialize\u001b[0m\u001b[0;34m(\u001b[0m\u001b[0mobj\u001b[0m\u001b[0;34m,\u001b[0m \u001b[0mlocation\u001b[0m\u001b[0;34m)\u001b[0m\u001b[0;34m:\u001b[0m\u001b[0;34m\u001b[0m\u001b[0;34m\u001b[0m\u001b[0m\n",
      "\u001b[0;32m~/.local/lib/python3.7/site-packages/torch/_utils.py\u001b[0m in \u001b[0;36m_cuda\u001b[0;34m(self, device, non_blocking, **kwargs)\u001b[0m\n\u001b[1;32m     81\u001b[0m                 \u001b[0mself\u001b[0m\u001b[0;34m.\u001b[0m\u001b[0msize\u001b[0m\u001b[0;34m(\u001b[0m\u001b[0;34m)\u001b[0m\u001b[0;34m,\u001b[0m \u001b[0mdevice\u001b[0m\u001b[0;34m=\u001b[0m\u001b[0mtorch\u001b[0m\u001b[0;34m.\u001b[0m\u001b[0mdevice\u001b[0m\u001b[0;34m(\u001b[0m\u001b[0;34m\"cuda\"\u001b[0m\u001b[0;34m)\u001b[0m\u001b[0;34m\u001b[0m\u001b[0;34m\u001b[0m\u001b[0m\n\u001b[1;32m     82\u001b[0m             )\n\u001b[0;32m---> 83\u001b[0;31m             \u001b[0muntyped_storage\u001b[0m\u001b[0;34m.\u001b[0m\u001b[0mcopy_\u001b[0m\u001b[0;34m(\u001b[0m\u001b[0mself\u001b[0m\u001b[0;34m,\u001b[0m \u001b[0mnon_blocking\u001b[0m\u001b[0;34m)\u001b[0m\u001b[0;34m\u001b[0m\u001b[0;34m\u001b[0m\u001b[0m\n\u001b[0m\u001b[1;32m     84\u001b[0m             \u001b[0;32mreturn\u001b[0m \u001b[0muntyped_storage\u001b[0m\u001b[0;34m\u001b[0m\u001b[0;34m\u001b[0m\u001b[0m\n\u001b[1;32m     85\u001b[0m \u001b[0;34m\u001b[0m\u001b[0m\n",
      "\u001b[0;31mKeyboardInterrupt\u001b[0m: "
     ]
    }
   ],
   "source": [
    "filepath=\"/home/cyy/.vscode-server/2024SRT/test.txt\"\n",
    "import sys\n",
    "import torch\n",
    "from src.models import RNNLM, GCNModel  #import models相当于执行了__init__.py的内容,这里相当于从__init__.py里面引用RNNLM\n",
    "import numpy as np\n",
    "import random\n",
    "sys.path.append(\"/home/cyy/.vscode-server/2024SRT/D-GCAN-main\")\n",
    "import yaml\n",
    "import utils as UTILS\n",
    "from DGCAN.DGCAN import MolecularGraphNeuralNetwork, Trainer, Tester\n",
    "import DGCAN.preprocess as pp\n",
    "import math\n",
    "import pandas as pd\n",
    "with open(file=\"/home/cyy/.vscode-server//2024SRT/test/config/gcn.yaml\", mode=\"r\",encoding='utf-8') as f:\n",
    "    gcn_para = yaml.safe_load(f)\n",
    "gcn_model_params=gcn_para[\"model\"]\n",
    "INPUT_SIZE = UTILS.DATA_UTILS.N_ATOM_FEATURE \n",
    "gcn_model_params[\"input_size\"] = INPUT_SIZE\n",
    "gcn_train_params=gcn_para[\"train\"]\n",
    "gcn_model = GCNModel(gcn_model_params)\n",
    "gcn_model.load_state_dict(torch.load('/home/cyy/.vscode-server/gcn_model_all_her.pth'))\n",
    "with open(file=\"/home/cyy/.vscode-server//2024SRT/test/config/rnn.yaml\", mode=\"r\",encoding='utf-8') as f:\n",
    "    rnn_para = yaml.safe_load(f)\n",
    "rnn_model_params=rnn_para[\"model\"] \n",
    "rnn_model_params['input_size']=66\n",
    "rnn_model = RNNLM(rnn_model_params)\n",
    "rnn_model.load_state_dict(torch.load('/home/cyy/.vscode-server/rnn_model_all_her.pth'))\n",
    "pos_data=list(open(\"/home/cyy/.vscode-server/2024SRT/all1.txt\"))\n",
    "neg_data=list(open(\"/home/cyy/.vscode-server/2024SRT/neg.txt\"))[:len(pos_data)]\n",
    "dcan_data=pp.get_dcan_dataset(pos_data,neg_data)\n",
    "DCAN_model = MolecularGraphNeuralNetwork(5000,dim=52, layer_hidden=4, layer_output=10, dropout=0.45).cuda()\n",
    "DCAN_tester = Tester(DCAN_model, batch_test=8) \n",
    "DCAN_model.eval()\n",
    "data_batch=pp.create_testdataset(filepath,property=False)\n",
    "DCAN_model.load_state_dict(torch.load('/home/cyy/.vscode-server/DCAN_model_all_all.pth'))\n",
    "prediction_test, loss_test, test_res = DCAN_tester.test_classifier(data_batch)\n",
    "data=list(open(filepath))\n",
    "rnn_prediction_raw=[rnn_model.test(a) for a in data]\n",
    "gcn_prediction_raw=[gcn_model.test(a) for a in data]\n",
    "result=pd.DataFrame({'smiles':data,'rnn':np.zeros(len(data)),'gcn':np.zeros(len(data)),'dcan':np.zeros(len(data))})\n",
    "result['rnn']=rnn_prediction_raw\n",
    "result['gcn']=gcn_prediction_raw\n",
    "result['dcan']=test_res[2,:]"
   ]
  },
  {
   "cell_type": "code",
   "execution_count": 12,
   "metadata": {},
   "outputs": [
    {
     "data": {
      "text/html": [
       "<div>\n",
       "<style scoped>\n",
       "    .dataframe tbody tr th:only-of-type {\n",
       "        vertical-align: middle;\n",
       "    }\n",
       "\n",
       "    .dataframe tbody tr th {\n",
       "        vertical-align: top;\n",
       "    }\n",
       "\n",
       "    .dataframe thead th {\n",
       "        text-align: right;\n",
       "    }\n",
       "</style>\n",
       "<table border=\"1\" class=\"dataframe\">\n",
       "  <thead>\n",
       "    <tr style=\"text-align: right;\">\n",
       "      <th></th>\n",
       "      <th>smiles</th>\n",
       "      <th>rnn</th>\n",
       "      <th>gcn</th>\n",
       "      <th>dcan</th>\n",
       "    </tr>\n",
       "  </thead>\n",
       "  <tbody>\n",
       "    <tr>\n",
       "      <th>0</th>\n",
       "      <td>CCn1ccnc1CNc1nc(C)nc2ccc(OC)cc21\\n</td>\n",
       "      <td>49.056779</td>\n",
       "      <td>0.000060</td>\n",
       "      <td>0.999995</td>\n",
       "    </tr>\n",
       "    <tr>\n",
       "      <th>1</th>\n",
       "      <td>COC(=O)c1nccc2c(C3=CCS(=O)(=O)CC3)cccc21\\n</td>\n",
       "      <td>55.633046</td>\n",
       "      <td>0.000027</td>\n",
       "      <td>0.999989</td>\n",
       "    </tr>\n",
       "    <tr>\n",
       "      <th>2</th>\n",
       "      <td>C[C@@H](Cc1nc(COCc2ccccc2)no1)n1cccn1\\n</td>\n",
       "      <td>53.109209</td>\n",
       "      <td>0.000008</td>\n",
       "      <td>0.999995</td>\n",
       "    </tr>\n",
       "    <tr>\n",
       "      <th>3</th>\n",
       "      <td>CS[C@H](C)CCC(=O)OCc1nc(-c2ccccc2)oc1C\\n</td>\n",
       "      <td>57.187644</td>\n",
       "      <td>0.000007</td>\n",
       "      <td>0.999997</td>\n",
       "    </tr>\n",
       "    <tr>\n",
       "      <th>4</th>\n",
       "      <td>CC(C)CCC[C@H](C)NS(=O)(=O)c1cnn(C2CCCC2)c1\\n</td>\n",
       "      <td>47.840925</td>\n",
       "      <td>0.000004</td>\n",
       "      <td>1.000000</td>\n",
       "    </tr>\n",
       "    <tr>\n",
       "      <th>...</th>\n",
       "      <td>...</td>\n",
       "      <td>...</td>\n",
       "      <td>...</td>\n",
       "      <td>...</td>\n",
       "    </tr>\n",
       "    <tr>\n",
       "      <th>295</th>\n",
       "      <td>C=CCc1ccccc1OC[C@@H](O)Cn1cnc2scc(-c3ccccc3)c2...</td>\n",
       "      <td>32.351746</td>\n",
       "      <td>0.000011</td>\n",
       "      <td>1.000000</td>\n",
       "    </tr>\n",
       "    <tr>\n",
       "      <th>296</th>\n",
       "      <td>CCOC[C@@H](C)CS(=O)(=O)N1CCC2=C(CCC(=O)N2)C1\\n</td>\n",
       "      <td>49.947694</td>\n",
       "      <td>0.000005</td>\n",
       "      <td>0.999997</td>\n",
       "    </tr>\n",
       "    <tr>\n",
       "      <th>297</th>\n",
       "      <td>CC(C)(C)c1cc2c(N3CC[C@@H](N4CCOC4=O)C3)nccn2n1\\n</td>\n",
       "      <td>32.898167</td>\n",
       "      <td>0.000008</td>\n",
       "      <td>0.999998</td>\n",
       "    </tr>\n",
       "    <tr>\n",
       "      <th>298</th>\n",
       "      <td>CO[C@@H]1[C@H](C)[C@H](NC(=S)NC2(C)CC2)C1(C)C\\n</td>\n",
       "      <td>44.432020</td>\n",
       "      <td>0.000004</td>\n",
       "      <td>0.999990</td>\n",
       "    </tr>\n",
       "    <tr>\n",
       "      <th>299</th>\n",
       "      <td>Cn1cnc2c1[C@H](COCc1cccnc1)N(Cc1ccc3cccnc3c1)CC2</td>\n",
       "      <td>41.896023</td>\n",
       "      <td>0.000005</td>\n",
       "      <td>1.000000</td>\n",
       "    </tr>\n",
       "  </tbody>\n",
       "</table>\n",
       "<p>300 rows × 4 columns</p>\n",
       "</div>"
      ],
      "text/plain": [
       "                                                smiles        rnn       gcn  \\\n",
       "0                   CCn1ccnc1CNc1nc(C)nc2ccc(OC)cc21\\n  49.056779  0.000060   \n",
       "1           COC(=O)c1nccc2c(C3=CCS(=O)(=O)CC3)cccc21\\n  55.633046  0.000027   \n",
       "2              C[C@@H](Cc1nc(COCc2ccccc2)no1)n1cccn1\\n  53.109209  0.000008   \n",
       "3             CS[C@H](C)CCC(=O)OCc1nc(-c2ccccc2)oc1C\\n  57.187644  0.000007   \n",
       "4         CC(C)CCC[C@H](C)NS(=O)(=O)c1cnn(C2CCCC2)c1\\n  47.840925  0.000004   \n",
       "..                                                 ...        ...       ...   \n",
       "295  C=CCc1ccccc1OC[C@@H](O)Cn1cnc2scc(-c3ccccc3)c2...  32.351746  0.000011   \n",
       "296     CCOC[C@@H](C)CS(=O)(=O)N1CCC2=C(CCC(=O)N2)C1\\n  49.947694  0.000005   \n",
       "297   CC(C)(C)c1cc2c(N3CC[C@@H](N4CCOC4=O)C3)nccn2n1\\n  32.898167  0.000008   \n",
       "298    CO[C@@H]1[C@H](C)[C@H](NC(=S)NC2(C)CC2)C1(C)C\\n  44.432020  0.000004   \n",
       "299   Cn1cnc2c1[C@H](COCc1cccnc1)N(Cc1ccc3cccnc3c1)CC2  41.896023  0.000005   \n",
       "\n",
       "         dcan  \n",
       "0    0.999995  \n",
       "1    0.999989  \n",
       "2    0.999995  \n",
       "3    0.999997  \n",
       "4    1.000000  \n",
       "..        ...  \n",
       "295  1.000000  \n",
       "296  0.999997  \n",
       "297  0.999998  \n",
       "298  0.999990  \n",
       "299  1.000000  \n",
       "\n",
       "[300 rows x 4 columns]"
      ]
     },
     "execution_count": 12,
     "metadata": {},
     "output_type": "execute_result"
    }
   ],
   "source": [
    "result"
   ]
  },
  {
   "cell_type": "code",
   "execution_count": 1,
   "metadata": {},
   "outputs": [],
   "source": [
    "import sys\n",
    "import os\n",
    "from src.models import RNNLM, GCNModel  #import models相当于执行了__init__.py的内容,这里相当于从__init__.py里面引用RNNLM\n",
    "import torch\n",
    "import numpy as np\n",
    "import random\n",
    "import utils\n",
    "sys.path.append(\"/home/cyy/.vscode-server/2024SRT/data\")\n",
    "sys.path.append(\"/home/cyy/.vscode-server/2024SRT\")\n",
    "sys.path.append(\"/home/cyy/.vscode-server/2024SRT/D-GCAN-main\")\n",
    "import yaml\n",
    "import time\n",
    "import utils as UTILS\n",
    "from src.models.rnn import rnnlm_trainer\n",
    "# from src.models.gcn import \n",
    "from src.models.default_model import DefaultModel, default_trainer\n",
    "from matplotlib import pyplot as plt\n",
    "from sklearn.model_selection import KFold\n",
    "from sklearn.metrics import roc_curve\n",
    "from sklearn.metrics import auc as auc_ \n",
    "import matplotlib.pyplot as plt\n",
    "from sklearn.metrics import balanced_accuracy_score\n",
    "from sklearn.metrics import f1_score\n",
    "from sklearn.metrics import matthews_corrcoef\n",
    "from sklearn.metrics import recall_score\n",
    "from sklearn.metrics import precision_score\n",
    "from sklearn.metrics import accuracy_score\n",
    "from sklearn.metrics import confusion_matrix\n",
    "import pickle\n",
    "from DGCAN.DGCAN import MolecularGraphNeuralNetwork, Trainer, Tester\n",
    "import DGCAN.preprocess as pp\n",
    "import math\n",
    "import pandas as pd\n",
    "with open(file=\"/home/cyy/.vscode-server//2024SRT/test/config/gcn.yaml\", mode=\"r\",encoding='utf-8') as f:\n",
    "    gcn_para = yaml.safe_load(f)\n",
    "gcn_model_params=gcn_para[\"model\"]\n",
    "INPUT_SIZE = UTILS.DATA_UTILS.N_ATOM_FEATURE \n",
    "gcn_model_params[\"input_size\"] = INPUT_SIZE\n",
    "gcn_train_params=gcn_para[\"train\"]\n",
    "gcn_model = GCNModel(gcn_model_params)\n",
    "gcn_model.load_state_dict(torch.load('/home/cyy/.vscode-server/gcn_model_all_all.pth'))\n",
    "with open(file=\"/home/cyy/.vscode-server//2024SRT/test/config/rnn.yaml\", mode=\"r\",encoding='utf-8') as f:\n",
    "    rnn_para = yaml.safe_load(f)\n",
    "rnn_model_params=rnn_para[\"model\"] \n",
    "rnn_model_params['input_size']=66\n",
    "rnn_model = RNNLM(rnn_model_params)\n",
    "rnn_model.load_state_dict(torch.load('/home/cyy/.vscode-server/rnn_model_all_all.pth'))\n",
    "DCAN_model = MolecularGraphNeuralNetwork(5000,dim=52, layer_hidden=4, layer_output=10, dropout=0.45)\n",
    "DCAN_model.load_state_dict(torch.load('/home/cyy/.vscode-server/DCAN_model_all_all.pth'))\n",
    "DCAN_model.eval()\n",
    "filepath=\"/home/cyy/.vscode-server/2024SRT/test.txt\""
   ]
  },
  {
   "cell_type": "code",
   "execution_count": 5,
   "metadata": {},
   "outputs": [],
   "source": [
    "data_batch=pp.create_testdataset(filepath,property=False)\n",
    "DCAN_tester = Tester(DCAN_model, batch_test=len(data_batch))\n",
    "DCAN_prediction = DCAN_tester.test_classifier(data_batch)\n",
    "data=list(open(filepath))\n",
    "rnn_prediction_raw=[rnn_model.test(a) for a in data]\n",
    "gcn_prediction_raw=[gcn_model.test(a) for a in data]\n",
    "rnn_prediction=[1 if i>60 else 0 for i in rnn_prediction_raw]\n",
    "gcn_prediction=[1 if i>0.5 else 0 for i in gcn_prediction_raw]\n",
    "DCAN_prediction=[1 if i>0.15 else 0 for i in DCAN_prediction]\n",
    "y_all=[]\n",
    "all=np.empty([3,len(rnn_prediction)])\n",
    "all[0]=rnn_prediction\n",
    "all[1]=gcn_prediction\n",
    "all[2]=DCAN_prediction\n",
    "for j in range(len(rnn_prediction)):\n",
    "    if sum(all[:,j])>=2:\n",
    "        y_all.append(1)\n",
    "    else:\n",
    "        y_all.append(0)\n",
    "y_all=np.array(y_all)"
   ]
  },
  {
   "cell_type": "code",
   "execution_count": null,
   "metadata": {},
   "outputs": [
    {
     "data": {
      "text/plain": [
       "(array([ 11,  12,  14,  16,  28,  33,  37,  40,  44,  49,  56,  59,  71,\n",
       "         74,  94, 106, 111, 114, 119, 127, 132, 136, 138, 140, 150, 160,\n",
       "        176, 188, 192, 200, 225, 230, 231, 232, 241, 252, 253, 259, 262,\n",
       "        280, 281, 282, 293, 300, 303, 304, 305]),)"
      ]
     },
     "execution_count": 12,
     "metadata": {},
     "output_type": "execute_result"
    }
   ],
   "source": [
    "np.where(np.array (DCAN_prediction)==0)"
   ]
  },
  {
   "cell_type": "code",
   "execution_count": 5,
   "metadata": {},
   "outputs": [],
   "source": [
    "result=pd.DataFrame({'smiles':data,'农药':np.zeros(len(data)),'fun':np.zeros(len(data)),'her':np.zeros(len(data)),'ins':np.zeros(len(data)),})"
   ]
  },
  {
   "cell_type": "code",
   "execution_count": 6,
   "metadata": {},
   "outputs": [
    {
     "data": {
      "text/plain": [
       "0.13"
      ]
     },
     "execution_count": 6,
     "metadata": {},
     "output_type": "execute_result"
    }
   ],
   "source": [
    "sum(y_all)/len(y_all)"
   ]
  },
  {
   "cell_type": "code",
   "execution_count": 7,
   "metadata": {},
   "outputs": [
    {
     "name": "stderr",
     "output_type": "stream",
     "text": [
      "/home/cyy/.local/lib/python3.7/site-packages/pandas/core/indexing.py:1732: SettingWithCopyWarning: \n",
      "A value is trying to be set on a copy of a slice from a DataFrame\n",
      "\n",
      "See the caveats in the documentation: https://pandas.pydata.org/pandas-docs/stable/user_guide/indexing.html#returning-a-view-versus-a-copy\n",
      "  self._setitem_single_block(indexer, value, name)\n"
     ]
    }
   ],
   "source": [
    "result['农药'].iloc[np.where(y_all==1)]=1"
   ]
  },
  {
   "cell_type": "code",
   "execution_count": 8,
   "metadata": {},
   "outputs": [],
   "source": [
    "np.savetxt(\"pos_sample.txt\",np.array(data)[np.where(np.array(y_all)==1)[0]],fmt='%s',newline='')#保存识别为农药的分子"
   ]
  },
  {
   "cell_type": "markdown",
   "metadata": {},
   "source": [
    "### 判断fun类型"
   ]
  },
  {
   "cell_type": "code",
   "execution_count": 9,
   "metadata": {},
   "outputs": [],
   "source": [
    "gcn_model.load_state_dict(torch.load('/home/cyy/.vscode-server/gcn_model_all_fun.pth'))\n",
    "rnn_model.load_state_dict(torch.load('/home/cyy/.vscode-server/rnn_model_all_fun.pth'))\n",
    "DCAN_model.load_state_dict(torch.load('/home/cyy/.vscode-server/DCAN_model_all_fun.pth'))\n",
    "DCAN_model.eval()\n",
    "filepath=\"pos_sample.txt\""
   ]
  },
  {
   "cell_type": "code",
   "execution_count": 10,
   "metadata": {},
   "outputs": [],
   "source": [
    "data_batch=pp.create_testdataset(filepath,property=False)\n",
    "DCAN_tester = Tester(DCAN_model, batch_test=len(data_batch))\n",
    "DCAN_prediction_raw = DCAN_tester.test_classifier(data_batch)\n",
    "data=list(open(filepath))\n",
    "rnn_prediction_raw=[rnn_model.test(a) for a in data]\n",
    "gcn_prediction_raw=[gcn_model.test(a) for a in data]\n",
    "rnn_prediction=[1 if i>60 else 0 for i in rnn_prediction_raw]\n",
    "gcn_prediction=[1 if i>0.5 else 0 for i in gcn_prediction_raw]\n",
    "DCAN_prediction=[1 if i>0.15 else 0 for i in DCAN_prediction_raw]\n",
    "y_all=[]\n",
    "all=np.empty([3,len(rnn_prediction)])\n",
    "all[0]=rnn_prediction\n",
    "all[1]=gcn_prediction\n",
    "all[2]=DCAN_prediction\n",
    "for j in range(len(rnn_prediction)):\n",
    "    if sum(all[:,j])>=2:\n",
    "        y_all.append(1)\n",
    "    else:\n",
    "        y_all.append(0)\n",
    "y_all=np.array(y_all)"
   ]
  },
  {
   "cell_type": "code",
   "execution_count": 11,
   "metadata": {},
   "outputs": [
    {
     "data": {
      "text/plain": [
       "0.6923076923076923"
      ]
     },
     "execution_count": 11,
     "metadata": {},
     "output_type": "execute_result"
    }
   ],
   "source": [
    "sum(y_all)/len(y_all)"
   ]
  },
  {
   "cell_type": "code",
   "execution_count": 152,
   "metadata": {},
   "outputs": [],
   "source": [
    "result.loc[np.where(result['农药']==1)[0][np.where(y_all==1)[0]],'fun']=1"
   ]
  },
  {
   "cell_type": "code",
   "execution_count": 153,
   "metadata": {},
   "outputs": [
    {
     "data": {
      "text/plain": [
       "9.0"
      ]
     },
     "execution_count": 153,
     "metadata": {},
     "output_type": "execute_result"
    }
   ],
   "source": [
    "sum(result['fun'])"
   ]
  },
  {
   "cell_type": "markdown",
   "metadata": {},
   "source": [
    "## 判断her类型"
   ]
  },
  {
   "cell_type": "code",
   "execution_count": 12,
   "metadata": {},
   "outputs": [],
   "source": [
    "gcn_model.load_state_dict(torch.load('/home/cyy/.vscode-server/gcn_model_all_her.pth'))\n",
    "rnn_model.load_state_dict(torch.load('/home/cyy/.vscode-server/rnn_model_all_her.pth'))\n",
    "DCAN_model.load_state_dict(torch.load('/home/cyy/.vscode-server/DCAN_model_all_her.pth'))\n",
    "DCAN_model.eval()\n",
    "filepath=\"pos_sample.txt\""
   ]
  },
  {
   "cell_type": "code",
   "execution_count": 13,
   "metadata": {},
   "outputs": [],
   "source": [
    "data_batch=pp.create_testdataset(filepath,property=False)\n",
    "DCAN_tester = Tester(DCAN_model, batch_test=len(data_batch))\n",
    "DCAN_prediction_raw = DCAN_tester.test_classifier(data_batch)\n",
    "data=list(open(filepath))\n",
    "rnn_prediction_raw=[rnn_model.test(a) for a in data]\n",
    "gcn_prediction_raw=[gcn_model.test(a) for a in data]\n",
    "rnn_prediction=[1 if i>60 else 0 for i in rnn_prediction_raw]\n",
    "gcn_prediction=[1 if i>0.5 else 0 for i in gcn_prediction_raw]\n",
    "DCAN_prediction=[1 if i>0.15 else 0 for i in DCAN_prediction_raw]\n",
    "y_all=[]\n",
    "all=np.empty([3,len(rnn_prediction)])\n",
    "all[0]=rnn_prediction\n",
    "all[1]=gcn_prediction\n",
    "all[2]=DCAN_prediction\n",
    "for j in range(len(rnn_prediction)):\n",
    "    if sum(all[:,j])>=2:\n",
    "        y_all.append(1)\n",
    "    else:\n",
    "        y_all.append(0)\n",
    "y_all=np.array(y_all)"
   ]
  },
  {
   "cell_type": "code",
   "execution_count": 14,
   "metadata": {},
   "outputs": [
    {
     "data": {
      "text/plain": [
       "0.46153846153846156"
      ]
     },
     "execution_count": 14,
     "metadata": {},
     "output_type": "execute_result"
    }
   ],
   "source": [
    "sum(y_all)/len(y_all)"
   ]
  },
  {
   "cell_type": "code",
   "execution_count": 160,
   "metadata": {},
   "outputs": [],
   "source": [
    "result.loc[np.where(result['农药']==1)[0][np.where(y_all==1)[0]],'her']=1"
   ]
  },
  {
   "cell_type": "code",
   "execution_count": 162,
   "metadata": {},
   "outputs": [
    {
     "data": {
      "text/plain": [
       "6.0"
      ]
     },
     "execution_count": 162,
     "metadata": {},
     "output_type": "execute_result"
    }
   ],
   "source": [
    "sum(result['her'])"
   ]
  },
  {
   "cell_type": "markdown",
   "metadata": {},
   "source": [
    "## 判断ins类型"
   ]
  },
  {
   "cell_type": "code",
   "execution_count": 15,
   "metadata": {},
   "outputs": [],
   "source": [
    "gcn_model.load_state_dict(torch.load('/home/cyy/.vscode-server/gcn_model_all_ins.pth'))\n",
    "rnn_model.load_state_dict(torch.load('/home/cyy/.vscode-server/rnn_model_all_ins.pth'))\n",
    "DCAN_model.load_state_dict(torch.load('/home/cyy/.vscode-server/DCAN_model_all_ins.pth'))\n",
    "DCAN_model.eval()\n",
    "filepath=\"pos_sample.txt\""
   ]
  },
  {
   "cell_type": "code",
   "execution_count": 16,
   "metadata": {},
   "outputs": [],
   "source": [
    "data_batch=pp.create_testdataset(filepath,property=False)\n",
    "DCAN_tester = Tester(DCAN_model, batch_test=len(data_batch))\n",
    "DCAN_prediction_raw = DCAN_tester.test_classifier(data_batch)\n",
    "data=list(open(filepath))\n",
    "rnn_prediction_raw=[rnn_model.test(a) for a in data]\n",
    "gcn_prediction_raw=[gcn_model.test(a) for a in data]\n",
    "rnn_prediction=[1 if i>60 else 0 for i in rnn_prediction_raw]\n",
    "gcn_prediction=[1 if i>0.5 else 0 for i in gcn_prediction_raw]\n",
    "DCAN_prediction=[1 if i>0.15 else 0 for i in DCAN_prediction_raw]\n",
    "y_all=[]\n",
    "all=np.empty([3,len(rnn_prediction)])\n",
    "all[0]=rnn_prediction\n",
    "all[1]=gcn_prediction\n",
    "all[2]=DCAN_prediction\n",
    "for j in range(len(rnn_prediction)):\n",
    "    if sum(all[:,j])>=2:\n",
    "        y_all.append(1)\n",
    "    else:\n",
    "        y_all.append(0)\n",
    "y_all=np.array(y_all)"
   ]
  },
  {
   "cell_type": "code",
   "execution_count": 17,
   "metadata": {},
   "outputs": [
    {
     "data": {
      "text/plain": [
       "0.6923076923076923"
      ]
     },
     "execution_count": 17,
     "metadata": {},
     "output_type": "execute_result"
    }
   ],
   "source": [
    "sum(y_all)/len(y_all)"
   ]
  },
  {
   "cell_type": "code",
   "execution_count": 170,
   "metadata": {},
   "outputs": [],
   "source": [
    "result.loc[np.where(result['农药']==1)[0][np.where(y_all==1)[0]],'ins']=1"
   ]
  },
  {
   "cell_type": "code",
   "execution_count": 172,
   "metadata": {},
   "outputs": [
    {
     "data": {
      "text/plain": [
       "9.0"
      ]
     },
     "execution_count": 172,
     "metadata": {},
     "output_type": "execute_result"
    }
   ],
   "source": [
    "sum(result['ins']) "
   ]
  },
  {
   "cell_type": "code",
   "execution_count": 175,
   "metadata": {},
   "outputs": [],
   "source": [
    "result.to_csv(\"123.csv\",index=False,header=False)"
   ]
  },
  {
   "cell_type": "code",
   "execution_count": null,
   "metadata": {},
   "outputs": [],
   "source": []
  },
  {
   "cell_type": "code",
   "execution_count": null,
   "metadata": {},
   "outputs": [],
   "source": []
  },
  {
   "cell_type": "code",
   "execution_count": 34,
   "metadata": {},
   "outputs": [],
   "source": [
    "import pandas as pd\n",
    "d=pd.read_csv('/home/cyy/.vscode-server/2024SRT/activity.csv',encoding='gbk',header=1)\n",
    "a=[]\n",
    "for i in d['activity_index']:\n",
    "    if '>' in i:\n",
    "        a.append(float(i.strip('>')))\n",
    "    elif '±' in i:\n",
    "        a.append(float(i.split('±')[0])+float(i.split('±')[1]))\n",
    "    else:\n",
    "        a.append(float(i))\n",
    "a=np.array(a)"
   ]
  },
  {
   "cell_type": "code",
   "execution_count": 35,
   "metadata": {},
   "outputs": [
    {
     "ename": "NameError",
     "evalue": "name 'active_smiles' is not defined",
     "output_type": "error",
     "traceback": [
      "\u001b[0;31m---------------------------------------------------------------------------\u001b[0m",
      "\u001b[0;31mNameError\u001b[0m                                 Traceback (most recent call last)",
      "\u001b[0;32m/tmp/ipykernel_1214349/4128548873.py\u001b[0m in \u001b[0;36m<module>\u001b[0;34m\u001b[0m\n\u001b[0;32m----> 1\u001b[0;31m \u001b[0mlen\u001b[0m\u001b[0;34m(\u001b[0m\u001b[0mset\u001b[0m\u001b[0;34m(\u001b[0m\u001b[0mactive_smiles\u001b[0m\u001b[0;34m)\u001b[0m\u001b[0;34m)\u001b[0m\u001b[0;34m\u001b[0m\u001b[0;34m\u001b[0m\u001b[0m\n\u001b[0m",
      "\u001b[0;31mNameError\u001b[0m: name 'active_smiles' is not defined"
     ]
    }
   ],
   "source": [
    "len(set(active_smiles))"
   ]
  },
  {
   "cell_type": "code",
   "execution_count": null,
   "metadata": {},
   "outputs": [],
   "source": []
  },
  {
   "cell_type": "code",
   "execution_count": 42,
   "metadata": {},
   "outputs": [
    {
     "name": "stdout",
     "output_type": "stream",
     "text": [
      "2494\n",
      "2303\n"
     ]
    }
   ],
   "source": [
    "from rdkit import Chem\n",
    "active_smiles=list(d['smile'].iloc[a>=10])\n",
    "canonical_smiles_act = []\n",
    "for smiles in active_smiles:\n",
    "    try:\n",
    "        mol = Chem.MolFromSmiles(smiles)\n",
    "        if mol:\n",
    "            canonical_smiles_act.append(Chem.MolToSmiles(mol))\n",
    "    except:\n",
    "        print(f\"Warning: Invalid SMILES skipped: {smiles}\")\n",
    "all_smiles=list(open(\"all.txt\"))\n",
    "canonical_smiles_all = []\n",
    "for smiles in all_smiles:\n",
    "    try:\n",
    "        mol = Chem.MolFromSmiles(smiles)\n",
    "        if mol:\n",
    "            canonical_smiles_all.append(Chem.MolToSmiles(mol))\n",
    "    except:\n",
    "        print(f\"Warning: Invalid SMILES skipped: {smiles}\")\n",
    "print(len(canonical_smiles_act+canonical_smiles_all))\n",
    "print(len(set(canonical_smiles_act+canonical_smiles_all)))"
   ]
  },
  {
   "cell_type": "code",
   "execution_count": 43,
   "metadata": {},
   "outputs": [],
   "source": [
    "pd.DataFrame(set(canonical_smiles_act).difference(set(canonical_smiles_all))).to_csv(\"unique_act_low.csv\",index=False)"
   ]
  },
  {
   "cell_type": "code",
   "execution_count": null,
   "metadata": {},
   "outputs": [],
   "source": [
    "data=list(open(filepath))\n",
    "rnn_prediction_raw=[rnn_model.test(a) for a in data]\n",
    "gcn_prediction_raw=[gcn_model.test(a) for a in data]\n",
    "rnn_prediction=[1 if i>75 else 0 for i in rnn_prediction_raw]\n",
    "gcn_prediction=[1 if i>0.5 else 0 for i in gcn_prediction]\n",
    "DCAN_prediction=[1 if i>0.15 else 0 for i in DCAN_prediction]"
   ]
  },
  {
   "cell_type": "code",
   "execution_count": null,
   "metadata": {},
   "outputs": [],
   "source": []
  },
  {
   "cell_type": "code",
   "execution_count": 27,
   "metadata": {},
   "outputs": [
    {
     "data": {
      "text/html": [
       "<div>\n",
       "<style scoped>\n",
       "    .dataframe tbody tr th:only-of-type {\n",
       "        vertical-align: middle;\n",
       "    }\n",
       "\n",
       "    .dataframe tbody tr th {\n",
       "        vertical-align: top;\n",
       "    }\n",
       "\n",
       "    .dataframe thead th {\n",
       "        text-align: right;\n",
       "    }\n",
       "</style>\n",
       "<table border=\"1\" class=\"dataframe\">\n",
       "  <thead>\n",
       "    <tr style=\"text-align: right;\">\n",
       "      <th></th>\n",
       "      <th>index</th>\n",
       "      <th>smile</th>\n",
       "      <th>fugi</th>\n",
       "      <th>activity_index</th>\n",
       "      <th>unit</th>\n",
       "      <th>doi</th>\n",
       "    </tr>\n",
       "  </thead>\n",
       "  <tbody>\n",
       "    <tr>\n",
       "      <th>0</th>\n",
       "      <td>3n</td>\n",
       "      <td>C[C@@]1(C(NC2=CC=C(C(F)(F)F)C=C2)=O)CCC[C@@]3(...</td>\n",
       "      <td>B. cinerea</td>\n",
       "      <td>98.425</td>\n",
       "      <td>mg/L</td>\n",
       "      <td>10.1021/acs.jafc.0c00562</td>\n",
       "    </tr>\n",
       "    <tr>\n",
       "      <th>1</th>\n",
       "      <td>A1-28</td>\n",
       "      <td>O=C([C@]1(C2(C)C)CC[C@@H]2CC1=O)NNC3=CC=C(F)C(...</td>\n",
       "      <td>R. solani</td>\n",
       "      <td>98.28 ± 1.41</td>\n",
       "      <td>μg/mL</td>\n",
       "      <td>10.1002/ps.8481</td>\n",
       "    </tr>\n",
       "    <tr>\n",
       "      <th>2</th>\n",
       "      <td>T17</td>\n",
       "      <td>O=C(NC1=C(C2=NC3=C(C=C(Cl)C=C3)N2)C=CC=C1)C1=C...</td>\n",
       "      <td>B. cinerea</td>\n",
       "      <td>96.81±0.33</td>\n",
       "      <td>?g/mL</td>\n",
       "      <td>10.1039/c8nj05150j</td>\n",
       "    </tr>\n",
       "    <tr>\n",
       "      <th>3</th>\n",
       "      <td>c6</td>\n",
       "      <td>C/C(C)=C\\CC/C(C)=C/C=N/NC1=NC(C2=CC=CC(Br)=C2)...</td>\n",
       "      <td>R. solani</td>\n",
       "      <td>95.5</td>\n",
       "      <td>mg/L</td>\n",
       "      <td>10.1021/acs.jafc.1c04064</td>\n",
       "    </tr>\n",
       "    <tr>\n",
       "      <th>4</th>\n",
       "      <td>T7</td>\n",
       "      <td>O=C(NC1=C(C2=NC3=C(C=CC=C3)N2)C=CC=C1)C1=CNN=C1</td>\n",
       "      <td>B. cinerea</td>\n",
       "      <td>94.82±0.42</td>\n",
       "      <td>?g/mL</td>\n",
       "      <td>10.1039/c8nj05150j</td>\n",
       "    </tr>\n",
       "    <tr>\n",
       "      <th>...</th>\n",
       "      <td>...</td>\n",
       "      <td>...</td>\n",
       "      <td>...</td>\n",
       "      <td>...</td>\n",
       "      <td>...</td>\n",
       "      <td>...</td>\n",
       "    </tr>\n",
       "    <tr>\n",
       "      <th>2788</th>\n",
       "      <td>C29</td>\n",
       "      <td>O=C1C(C2SC(S(CC3C=CC=CC=3)(=O)=O)=NN=2)=COC2C1...</td>\n",
       "      <td>B. cinerea</td>\n",
       "      <td>&gt;10</td>\n",
       "      <td>?g/mL</td>\n",
       "      <td>10.1021/acs.jafc.4c03505</td>\n",
       "    </tr>\n",
       "    <tr>\n",
       "      <th>2789</th>\n",
       "      <td>C31</td>\n",
       "      <td>O=C1C(=COC2C1=CC(=CC=2)Cl)C1SC(S(CC2C=CC=CC=2)...</td>\n",
       "      <td>B. cinerea</td>\n",
       "      <td>&gt;10</td>\n",
       "      <td>?g/mL</td>\n",
       "      <td>10.1021/acs.jafc.4c03505</td>\n",
       "    </tr>\n",
       "    <tr>\n",
       "      <th>2790</th>\n",
       "      <td>C32</td>\n",
       "      <td>O=C1C(=COC2C1=CC(C)=CC=2)C1SC(S(CC2C=CC=CC=2)(...</td>\n",
       "      <td>B. cinerea</td>\n",
       "      <td>&gt;10</td>\n",
       "      <td>?g/mL</td>\n",
       "      <td>10.1021/acs.jafc.4c03505</td>\n",
       "    </tr>\n",
       "    <tr>\n",
       "      <th>2791</th>\n",
       "      <td>C33</td>\n",
       "      <td>O=C1C(=COC2C1=CC=C(Br)C=2)C1SC(S(CC2C=CC=CC=2)...</td>\n",
       "      <td>B. cinerea</td>\n",
       "      <td>&gt;10</td>\n",
       "      <td>?g/mL</td>\n",
       "      <td>10.1021/acs.jafc.4c03505</td>\n",
       "    </tr>\n",
       "    <tr>\n",
       "      <th>2792</th>\n",
       "      <td>C33</td>\n",
       "      <td>O=C1C(=COC2C1=CC=C(Br)C=2)C1SC(S(CC2C=CC=CC=2)...</td>\n",
       "      <td>R. solani</td>\n",
       "      <td>&gt;10</td>\n",
       "      <td>?g/mL</td>\n",
       "      <td>10.1021/acs.jafc.4c03505</td>\n",
       "    </tr>\n",
       "  </tbody>\n",
       "</table>\n",
       "<p>2793 rows × 6 columns</p>\n",
       "</div>"
      ],
      "text/plain": [
       "      index                                              smile        fugi  \\\n",
       "0        3n  C[C@@]1(C(NC2=CC=C(C(F)(F)F)C=C2)=O)CCC[C@@]3(...  B. cinerea   \n",
       "1     A1-28  O=C([C@]1(C2(C)C)CC[C@@H]2CC1=O)NNC3=CC=C(F)C(...   R. solani   \n",
       "2       T17  O=C(NC1=C(C2=NC3=C(C=C(Cl)C=C3)N2)C=CC=C1)C1=C...  B. cinerea   \n",
       "3        c6  C/C(C)=C\\CC/C(C)=C/C=N/NC1=NC(C2=CC=CC(Br)=C2)...   R. solani   \n",
       "4        T7    O=C(NC1=C(C2=NC3=C(C=CC=C3)N2)C=CC=C1)C1=CNN=C1  B. cinerea   \n",
       "...     ...                                                ...         ...   \n",
       "2788    C29  O=C1C(C2SC(S(CC3C=CC=CC=3)(=O)=O)=NN=2)=COC2C1...  B. cinerea   \n",
       "2789    C31  O=C1C(=COC2C1=CC(=CC=2)Cl)C1SC(S(CC2C=CC=CC=2)...  B. cinerea   \n",
       "2790    C32  O=C1C(=COC2C1=CC(C)=CC=2)C1SC(S(CC2C=CC=CC=2)(...  B. cinerea   \n",
       "2791    C33  O=C1C(=COC2C1=CC=C(Br)C=2)C1SC(S(CC2C=CC=CC=2)...  B. cinerea   \n",
       "2792    C33  O=C1C(=COC2C1=CC=C(Br)C=2)C1SC(S(CC2C=CC=CC=2)...   R. solani   \n",
       "\n",
       "     activity_index   unit                       doi  \n",
       "0            98.425   mg/L  10.1021/acs.jafc.0c00562  \n",
       "1      98.28 ± 1.41  μg/mL           10.1002/ps.8481  \n",
       "2        96.81±0.33  ?g/mL        10.1039/c8nj05150j  \n",
       "3              95.5   mg/L  10.1021/acs.jafc.1c04064  \n",
       "4        94.82±0.42  ?g/mL        10.1039/c8nj05150j  \n",
       "...             ...    ...                       ...  \n",
       "2788            >10  ?g/mL  10.1021/acs.jafc.4c03505  \n",
       "2789            >10  ?g/mL  10.1021/acs.jafc.4c03505  \n",
       "2790            >10  ?g/mL  10.1021/acs.jafc.4c03505  \n",
       "2791            >10  ?g/mL  10.1021/acs.jafc.4c03505  \n",
       "2792            >10  ?g/mL  10.1021/acs.jafc.4c03505  \n",
       "\n",
       "[2793 rows x 6 columns]"
      ]
     },
     "execution_count": 27,
     "metadata": {},
     "output_type": "execute_result"
    }
   ],
   "source": [
    "d"
   ]
  },
  {
   "cell_type": "code",
   "execution_count": 26,
   "metadata": {},
   "outputs": [],
   "source": [
    "d=pd.read_csv('/home/cyy/.vscode-server/2024SRT/activity.csv',encoding='gbk',header=1)\n",
    "a=[]\n",
    "for i in d['activity_index']:\n",
    "    if '>' in i:\n",
    "        a.append(float(i.strip('>')))\n",
    "    elif '±' in i:\n",
    "        a.append(float(i.split('±')[0])-float(i.split('±')[1]))\n",
    "    else:\n",
    "        a.append(float(i))"
   ]
  },
  {
   "cell_type": "code",
   "execution_count": 33,
   "metadata": {},
   "outputs": [
    {
     "data": {
      "text/plain": [
       "8       CC1(C)C(CC(=O)O/N=C/C2=C(Br)C=CS2)CC1C(=O)/C=C...\n",
       "9                     C1C(=CC2C(=CC=CC=2)N=1)SC1C=CC=CC=1\n",
       "10      O=C([C@]1(C2(C)C)CC[C@@H]2CC1=O)NNC3=CC=CC(C(F...\n",
       "11      C(C)1SC(C(=O)NC2=C(C=C(C=C2)F)C2C=C(C(=C(C=2)F...\n",
       "12       CO/N=C(\\CN1C=NC=N1)C1=CN=C(OC2=C(Br)C=CC=C2)C=C1\n",
       "                              ...                        \n",
       "2562    CN1C=C(C(NC2=CC=CC=C2NC3=CC(Cl)=CC(Cl)=C3)=O)C...\n",
       "2563    CN1C=C(C(C(F)F)=N1)C(=O)NC1C(=CC=CC=1)NC1C=C(C...\n",
       "2564    CN1C=C(C(C(F)F)=N1)C(=O)NC1C(=CC=CC=1)NC1C(=CC...\n",
       "2565    CN1C=C(C(C(F)F)=N1)C(=O)NC1C(=CC=CC=1)NC1C(=C(...\n",
       "2566    CN1C=C(C(C(F)F)=N1)C(=O)NC1C(=CC=CC=1)NC1C=C(C...\n",
       "Name: smile, Length: 1794, dtype: object"
      ]
     },
     "execution_count": 33,
     "metadata": {},
     "output_type": "execute_result"
    }
   ],
   "source": [
    "d[\"smile\"].iloc[np.array(a)<10]"
   ]
  }
 ],
 "metadata": {
  "kernelspec": {
   "display_name": "Python 3",
   "language": "python",
   "name": "python3"
  },
  "language_info": {
   "codemirror_mode": {
    "name": "ipython",
    "version": 3
   },
   "file_extension": ".py",
   "mimetype": "text/x-python",
   "name": "python",
   "nbconvert_exporter": "python",
   "pygments_lexer": "ipython3",
   "version": "3.13.2"
  }
 },
 "nbformat": 4,
 "nbformat_minor": 2
}
